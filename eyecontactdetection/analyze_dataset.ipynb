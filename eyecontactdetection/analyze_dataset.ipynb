{
 "cells": [
  {
   "cell_type": "code",
   "execution_count": 6,
   "metadata": {},
   "outputs": [],
   "source": [
    "import os\n",
    "import cv2\n",
    "import json\n",
    "import glob"
   ]
  },
  {
   "cell_type": "code",
   "execution_count": 7,
   "metadata": {},
   "outputs": [],
   "source": [
    "from IPython.display import display, Image\n",
    "import cv2\n",
    "\n",
    "def imshow(image, format='.png'):\n",
    "    decoded_bytes = cv2.imencode(format, image)[1].tobytes()\n",
    "    display(Image(data=decoded_bytes))"
   ]
  },
  {
   "cell_type": "code",
   "execution_count": 8,
   "metadata": {},
   "outputs": [],
   "source": [
    "dataset_dir = '../data/eyecontact_dataset/cg_eyecontact/datasets/entire_face/'"
   ]
  },
  {
   "cell_type": "code",
   "execution_count": 34,
   "metadata": {},
   "outputs": [],
   "source": [
    "d = {}\n",
    "fnames = [os.path.basename(fname) for fname in glob.glob(dataset_dir + '*.jp*g')]\n",
    "d['num_of_images'] = len(fnames)\n",
    "d['num_of_locked'] = len([fname for fname in fnames if '_0V_0H' in fname])\n",
    "d['num_of_unlocked'] = len(fnames) - d['num_of_locked']\n",
    "d['num_of_people'] = len(set([int(fname.split('_')[0]) for fname in fnames]))\n",
    "d['num_of_locked_in_train'] = len([fname for fname in fnames if '_0V_0H' in fname and int(fname.split('_')[0]) <= 45])\n",
    "d['num_of_locked_in_test'] = len([fname for fname in fnames if '_0V_0H' in fname and int(fname.split('_')[0]) > 45])\n"
   ]
  },
  {
   "cell_type": "code",
   "execution_count": 35,
   "metadata": {},
   "outputs": [
    {
     "name": "stdout",
     "output_type": "stream",
     "text": [
      "('num_of_locked', 245)\n",
      "('num_of_images', 5197)\n",
      "('num_of_people', 56)\n",
      "('num_of_unlocked', 4952)\n",
      "('num_of_locked_in_test', 50)\n",
      "('num_of_locked_in_train', 195)\n"
     ]
    }
   ],
   "source": [
    "for k, v in d.items():\n",
    "    print(k, v)"
   ]
  },
  {
   "cell_type": "code",
   "execution_count": null,
   "metadata": {},
   "outputs": [],
   "source": []
  }
 ],
 "metadata": {
  "kernelspec": {
   "display_name": "Python 2",
   "language": "python",
   "name": "python2"
  },
  "language_info": {
   "codemirror_mode": {
    "name": "ipython",
    "version": 2
   },
   "file_extension": ".py",
   "mimetype": "text/x-python",
   "name": "python",
   "nbconvert_exporter": "python",
   "pygments_lexer": "ipython2",
   "version": "2.7.6"
  }
 },
 "nbformat": 4,
 "nbformat_minor": 2
}
