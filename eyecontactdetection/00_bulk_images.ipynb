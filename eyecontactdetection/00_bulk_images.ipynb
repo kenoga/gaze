{
 "cells": [
  {
   "cell_type": "markdown",
   "metadata": {},
   "source": [
    "# データの反転，縦横比の変更によりデータ数を増やす\n",
    "簡単のため，とりあえず画像の反転だけ行う"
   ]
  },
  {
   "cell_type": "code",
   "execution_count": 3,
   "metadata": {},
   "outputs": [],
   "source": [
    "import os\n",
    "import json\n",
    "import cv2"
   ]
  },
  {
   "cell_type": "code",
   "execution_count": 2,
   "metadata": {},
   "outputs": [],
   "source": [
    "from IPython.display import display, Image\n",
    "import cv2\n",
    "\n",
    "def imshow(image, format='.png'):\n",
    "    decoded_bytes = cv2.imencode(format, image)[1].tobytes()\n",
    "    display(Image(data=decoded_bytes))"
   ]
  },
  {
   "cell_type": "code",
   "execution_count": 6,
   "metadata": {},
   "outputs": [],
   "source": [
    "img_dir = '../data/eyecontact_dataset/cg_eyecontact/all/'\n",
    "dest_dir = '../data/eyecontact_dataset/cg_eyecontact/bulked'\n",
    "\n",
    "for fname in os.listdir(img_dir):\n",
    "    if '.jpg' not in fname:\n",
    "        continue\n",
    "    img = cv2.imread(os.path.join(img_dir, fname))\n",
    "    flipped_img = cv2.flip(img, 1)\n",
    "    \n",
    "    new_fname = fname.replace('.jpg', '_F.jpg')\n",
    "#     元画像も保存\n",
    "    cv2.imwrite(os.path.join(dest_dir, fname), img)\n",
    "    cv2.imwrite(os.path.join(dest_dir, new_fname), flipped)"
   ]
  },
  {
   "cell_type": "code",
   "execution_count": null,
   "metadata": {},
   "outputs": [],
   "source": []
  }
 ],
 "metadata": {
  "kernelspec": {
   "display_name": "Python 2",
   "language": "python",
   "name": "python2"
  },
  "language_info": {
   "codemirror_mode": {
    "name": "ipython",
    "version": 2
   },
   "file_extension": ".py",
   "mimetype": "text/x-python",
   "name": "python",
   "nbconvert_exporter": "python",
   "pygments_lexer": "ipython2",
   "version": "2.7.6"
  }
 },
 "nbformat": 4,
 "nbformat_minor": 2
}
