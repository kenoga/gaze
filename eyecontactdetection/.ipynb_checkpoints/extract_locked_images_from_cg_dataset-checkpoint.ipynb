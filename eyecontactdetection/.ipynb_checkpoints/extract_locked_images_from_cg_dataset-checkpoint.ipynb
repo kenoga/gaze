{
 "cells": [
  {
   "cell_type": "markdown",
   "metadata": {},
   "source": [
    "# CGデータセットを目があっているもの，そうでないものに分ける"
   ]
  },
  {
   "cell_type": "code",
   "execution_count": 3,
   "metadata": {},
   "outputs": [],
   "source": [
    "import os"
   ]
  },
  {
   "cell_type": "code",
   "execution_count": 10,
   "metadata": {},
   "outputs": [
    {
     "name": "stdout",
     "output_type": "stream",
     "text": [
      "['0001_2m_-15P_-10V_-10H.jpg', '0001_2m_-15P_-10V_-15H.jpg', '0001_2m_-15P_-10V_-5H.jpg', '0001_2m_-15P_-10V_0H.jpg', '0001_2m_-15P_-10V_10H.jpg', '0001_2m_-15P_-10V_15H.jpg', '0001_2m_-15P_-10V_5H.jpg', '0001_2m_-15P_0V_-10H.jpg', '0001_2m_-15P_0V_-15H.jpg', '0001_2m_-15P_0V_-5H.jpg', '0001_2m_-15P_0V_0H.jpg', '0001_2m_-15P_0V_10H.jpg', '0001_2m_-15P_0V_15H.jpg', '0001_2m_-15P_0V_5H.jpg', '0001_2m_-15P_10V_-10H.jpg', '0001_2m_-15P_10V_-15H.jpg', '0001_2m_-15P_10V_-5H.jpg', '0001_2m_-15P_10V_0H.jpg', '0001_2m_-15P_10V_10H.jpg', '0001_2m_-15P_10V_15H.jpg', '0001_2m_-15P_10V_5H.jpg', '0001_2m_-30P_-10V_-10H.jpg', '0001_2m_-30P_-10V_-15H.jpg', '0001_2m_-30P_-10V_-5H.jpg', '0001_2m_-30P_-10V_0H.jpg', '0001_2m_-30P_-10V_10H.jpg', '0001_2m_-30P_-10V_15H.jpg', '0001_2m_-30P_-10V_5H.jpg', '0001_2m_-30P_0V_-10H.jpg', '0001_2m_-30P_0V_-15H.jpg', '0001_2m_-30P_0V_-5H.jpg', '0001_2m_-30P_0V_0H.jpg', '0001_2m_-30P_0V_10H.jpg', '0001_2m_-30P_0V_15H.jpg', '0001_2m_-30P_0V_5H.jpg', '0001_2m_-30P_10V_-10H.jpg', '0001_2m_-30P_10V_-15H.jpg', '0001_2m_-30P_10V_-5H.jpg', '0001_2m_-30P_10V_0H.jpg', '0001_2m_-30P_10V_10H.jpg', '0001_2m_-30P_10V_15H.jpg', '0001_2m_-30P_10V_5H.jpg', '0001_2m_0P_-10V_-10H.jpg', '0001_2m_0P_-10V_-15H.jpg', '0001_2m_0P_-10V_-5H.jpg', '0001_2m_0P_-10V_0H.jpg', '0001_2m_0P_-10V_10H.jpg', '0001_2m_0P_-10V_15H.jpg', '0001_2m_0P_-10V_5H.jpg', '0001_2m_0P_0V_-10H.jpg', '0001_2m_0P_0V_-15H.jpg', '0001_2m_0P_0V_-5H.jpg', '0001_2m_0P_0V_0H.jpg', '0001_2m_0P_0V_10H.jpg', '0001_2m_0P_0V_15H.jpg', '0001_2m_0P_0V_5H.jpg', '0001_2m_0P_10V_-10H.jpg', '0001_2m_0P_10V_-15H.jpg', '0001_2m_0P_10V_-5H.jpg', '0001_2m_0P_10V_0H.jpg', '0001_2m_0P_10V_10H.jpg', '0001_2m_0P_10V_15H.jpg', '0001_2m_0P_10V_5H.jpg', '0001_2m_15P_-10V_-10H.jpg', '0001_2m_15P_-10V_-15H.jpg', '0001_2m_15P_-10V_-5H.jpg', '0001_2m_15P_-10V_0H.jpg', '0001_2m_15P_-10V_10H.jpg', '0001_2m_15P_-10V_15H.jpg', '0001_2m_15P_-10V_5H.jpg', '0001_2m_15P_0V_-10H.jpg', '0001_2m_15P_0V_-15H.jpg', '0001_2m_15P_0V_-5H.jpg', '0001_2m_15P_0V_0H.jpg', '0001_2m_15P_0V_10H.jpg', '0001_2m_15P_0V_15H.jpg', '0001_2m_15P_0V_5H.jpg', '0001_2m_15P_10V_-10H.jpg', '0001_2m_15P_10V_-15H.jpg', '0001_2m_15P_10V_-5H.jpg', '0001_2m_15P_10V_0H.jpg', '0001_2m_15P_10V_10H.jpg', '0001_2m_15P_10V_15H.jpg', '0001_2m_15P_10V_5H.jpg', '0001_2m_30P_-10V_-10H.jpg', '0001_2m_30P_-10V_-15H.jpg', '0001_2m_30P_-10V_-5H.jpg', '0001_2m_30P_-10V_0H.jpg', '0001_2m_30P_-10V_10H.jpg', '0001_2m_30P_-10V_15H.jpg', '0001_2m_30P_-10V_5H.jpg', '0001_2m_30P_0V_-10H.jpg', '0001_2m_30P_0V_-15H.jpg', '0001_2m_30P_0V_-5H.jpg', '0001_2m_30P_0V_0H.jpg', '0001_2m_30P_0V_10H.jpg', '0001_2m_30P_0V_15H.jpg', '0001_2m_30P_0V_5H.jpg', '0001_2m_30P_10V_-10H.jpg', '0001_2m_30P_10V_-15H.jpg', '0001_2m_30P_10V_-5H.jpg', '0001_2m_30P_10V_0H.jpg', '0001_2m_30P_10V_10H.jpg', '0001_2m_30P_10V_15H.jpg', '0001_2m_30P_10V_5H.jpg', 'Thumbs.db']\n"
     ]
    }
   ],
   "source": [
    "cg_dir = '../data/gaze_dataset/columbia_Gaze_Data_Set/'\n",
    "sub_dir_names = sorted([name for name in os.listdir(cg_dir) if name[0] != '.'])\n",
    "\n",
    "locked_image_paths = []\n",
    "unlocked_image_paths = []\n",
    "\n",
    "for sub_dir_name in sub_dir_names:\n",
    "    sub_dir_path  = os.path.join(cg_dir, sub_dir_name)\n",
    "    img_names = sorted([name for name in os.listdir(sub_dir_path) if name[0] != '.'])\n",
    "    for img_name in img_names:\n",
    "        path = os.path.join(sub_dir_path, img_name)\n",
    "        if '0V_0H' in img_name:\n",
    "            locked_image_paths.append(path)\n",
    "            "
   ]
  },
  {
   "cell_type": "code",
   "execution_count": null,
   "metadata": {},
   "outputs": [],
   "source": []
  }
 ],
 "metadata": {
  "kernelspec": {
   "display_name": "Python 2",
   "language": "python",
   "name": "python2"
  },
  "language_info": {
   "codemirror_mode": {
    "name": "ipython",
    "version": 2
   },
   "file_extension": ".py",
   "mimetype": "text/x-python",
   "name": "python",
   "nbconvert_exporter": "python",
   "pygments_lexer": "ipython2",
   "version": "2.7.6"
  }
 },
 "nbformat": 4,
 "nbformat_minor": 2
}
