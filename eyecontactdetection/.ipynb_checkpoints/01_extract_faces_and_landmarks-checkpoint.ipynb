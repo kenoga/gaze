{
 "cells": [
  {
   "cell_type": "markdown",
   "metadata": {},
   "source": [
    "# openfaceの顔検出，顔の基準点検出のテスト"
   ]
  },
  {
   "cell_type": "code",
   "execution_count": 11,
   "metadata": {},
   "outputs": [],
   "source": [
    "import os\n",
    "import cv2\n",
    "import dlib\n",
    "import openface\n",
    "from openface import AlignDlib"
   ]
  },
  {
   "cell_type": "code",
   "execution_count": 25,
   "metadata": {},
   "outputs": [],
   "source": [
    "from IPython.display import display, Image\n",
    "import cv2\n",
    "\n",
    "def imshow(image, format='.png'):\n",
    "    decoded_bytes = cv2.imencode(format, image)[1].tobytes()\n",
    "    display(Image(data=decoded_bytes))"
   ]
  },
  {
   "cell_type": "code",
   "execution_count": 26,
   "metadata": {},
   "outputs": [],
   "source": [
    "src_dir = '../data/eyecontact_dataset/cg_eyecontact/all'\n",
    "out_path = '../data/eyecontact_dataset/cg_eyecontact/face_tag.json'\n",
    "\n",
    "dlib_model_path = '/root/openface/models/dlib/shape_predictor_68_face_landmarks.dat'\n",
    "align = AlignDlib(dlib_model_path)"
   ]
  },
  {
   "cell_type": "code",
   "execution_count": 27,
   "metadata": {
    "scrolled": true
   },
   "outputs": [],
   "source": [
    "fnames = os.listdir(src_dir)"
   ]
  },
  {
   "cell_type": "code",
   "execution_count": null,
   "metadata": {},
   "outputs": [],
   "source": [
    "fplog = open('facedetection.log', 'w')\n",
    "result = {}\n",
    "for fname in fnames:\n",
    "    result[fname] = {}\n",
    "    path = os.path.join(src_dir, fname)\n",
    "    img = cv2.imread(path)\n",
    "    bb = align.getLargestFaceBoundingBox(img)\n",
    "\n",
    "    if bb is None:\n",
    "        msg = 'Could not detect a face at %s' % path\n",
    "        fplog.write(msg + '\\n')\n",
    "        print(msg)\n",
    "        continue\n",
    "    \n",
    "    landmarks = align.findLandmarks(img, bb)\n",
    "    x, y, w, h = bb.left(), bb.top(), bb.right() - bb.left(), bb.bottom() - bb.top()\n",
    "    result[fname]['bb'] = str([x, y, w, h])\n",
    "    result[fname]['lm'] = str(landmarks)\n",
    "    break\n",
    "print(result)\n",
    "\n",
    "with open(out_path, 'w') as fw:t\n",
    "    json.dump(result, fw, indent=2, sort_keys=True)\n"
   ]
  }
 ],
 "metadata": {
  "kernelspec": {
   "display_name": "Python 2",
   "language": "python",
   "name": "python2"
  },
  "language_info": {
   "codemirror_mode": {
    "name": "ipython",
    "version": 2
   },
   "file_extension": ".py",
   "mimetype": "text/x-python",
   "name": "python",
   "nbconvert_exporter": "python",
   "pygments_lexer": "ipython2",
   "version": "2.7.6"
  }
 },
 "nbformat": 4,
 "nbformat_minor": 2
}
