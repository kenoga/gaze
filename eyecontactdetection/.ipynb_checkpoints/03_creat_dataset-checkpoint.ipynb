{
 "cells": [
  {
   "cell_type": "code",
   "execution_count": 1,
   "metadata": {},
   "outputs": [],
   "source": [
    "import os\n",
    "import cv2\n",
    "import json"
   ]
  },
  {
   "cell_type": "code",
   "execution_count": 2,
   "metadata": {},
   "outputs": [],
   "source": [
    "from IPython.display import display, Image\n",
    "import cv2\n",
    "\n",
    "def imshow(image, format='.png'):\n",
    "    decoded_bytes = cv2.imencode(format, image)[1].tobytes()\n",
    "    display(Image(data=decoded_bytes))"
   ]
  },
  {
   "cell_type": "markdown",
   "metadata": {},
   "source": [
    "顔画像, 目画像の平均サイズ，　縦横比を計算する"
   ]
  },
  {
   "cell_type": "code",
   "execution_count": 3,
   "metadata": {
    "scrolled": true
   },
   "outputs": [
    {
     "name": "stdout",
     "output_type": "stream",
     "text": [
      "(1455, 1455)\n",
      "(277, 1018)\n"
     ]
    }
   ],
   "source": [
    "face_dir = '../data/eyecontact_dataset/cg_eyecontact/face/'\n",
    "eyes_dir = '../data/eyecontact_dataset/cg_eyecontact/eyes/'\n",
    "\n",
    "def get_ave_size(dir_path):\n",
    "    widths = []\n",
    "    heights = []\n",
    "    for fname in os.listdir(dir_path):\n",
    "        path = os.path.join(dir_path, fname)\n",
    "        img = cv2.imread(path)\n",
    "        widths.append(img.shape[0])\n",
    "        heights.append(img.shape[1])\n",
    "    \n",
    "    return (sum(widths)/len(widths), sum(heights)/len(heights))\n",
    "\n",
    "face_ave_size = get_ave_size(face_dir)\n",
    "eye_ave_size = get_ave_size(eyes_dir)\n",
    "print(face_ave_size)\n",
    "print(eye_ave_size)"
   ]
  },
  {
   "cell_type": "markdown",
   "metadata": {},
   "source": [
    "画像サイズを変更して保存する\n",
    "jsonファイルにファイル名とそのラベル（目があっている:1, 目があっていない:0)を保存する"
   ]
  },
  {
   "cell_type": "code",
   "execution_count": 4,
   "metadata": {},
   "outputs": [],
   "source": [
    "width = 255\n",
    "height = 255\n",
    "face_dir = '../data/eyecontact_dataset/cg_eyecontact/face/'\n",
    "dest_dir = '../data/eyecontact_dataset/cg_eyecontact/datasets/entire_face/'\n",
    "label_dict = {}\n",
    "for fname in os.listdir(face_dir):\n",
    "    path = os.path.join(face_dir, fname)\n",
    "    img = cv2.imread(path)\n",
    "    # 画像サイズの変更\n",
    "    img = cv2.resize(img, (height, width))\n",
    "    \n",
    "    # 白黒に変更\n",
    "    # img = cv2.cvtColor(img, cv2.COLOR_RGB2GRAY)\n",
    "    \n",
    "    # 画像の保存\n",
    "    cv2.imwrite(os.path.join(dest_dir, fname), img)\n",
    "    \n",
    "    #  ラベルの取得\n",
    "    if '_0V_0H' in fname:\n",
    "        label = 1\n",
    "    else:\n",
    "        label = 0\n",
    "    label_dict[fname] = label\n",
    "\n",
    "with open(os.path.join(dest_dir, 'label.json'), 'w') as fw:\n",
    "    json.dump(label_dict, fw)"
   ]
  },
  {
   "cell_type": "code",
   "execution_count": null,
   "metadata": {},
   "outputs": [],
   "source": []
  }
 ],
 "metadata": {
  "kernelspec": {
   "display_name": "Python 2",
   "language": "python",
   "name": "python2"
  },
  "language_info": {
   "codemirror_mode": {
    "name": "ipython",
    "version": 2
   },
   "file_extension": ".py",
   "mimetype": "text/x-python",
   "name": "python",
   "nbconvert_exporter": "python",
   "pygments_lexer": "ipython2",
   "version": "2.7.6"
  }
 },
 "nbformat": 4,
 "nbformat_minor": 2
}
