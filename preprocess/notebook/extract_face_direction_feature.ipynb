{
 "cells": [
  {
   "cell_type": "code",
   "execution_count": 13,
   "metadata": {},
   "outputs": [],
   "source": [
    "import cv2\n",
    "import cv2.cv\n",
    "from PIL import ImageOps, Image, ImageDraw\n",
    "import os, sys, math\n",
    "import json\n",
    "import numpy as np\n",
    "import openface\n",
    "\n",
    "module_path = os.path.abspath(os.path.join('..'))\n",
    "if module_path not in sys.path:\n",
    "    sys.path.append(module_path)\n",
    "module_path = os.path.abspath(os.path.join('../..'))\n",
    "if module_path not in sys.path:\n",
    "    sys.path.append(module_path)\n",
    "\n",
    "from dataset_utils.utils import DS_ROOT\n",
    "from dataset_utils.utils import get_bb_and_landmarks_dict\n",
    "from preprocess.utils.FaceAligner import FaceAligner"
   ]
  },
  {
   "cell_type": "code",
   "execution_count": 24,
   "metadata": {},
   "outputs": [],
   "source": [
    "lm_dict = utils.get_bb_and_landmarks_dict()"
   ]
  },
  {
   "cell_type": "code",
   "execution_count": 37,
   "metadata": {},
   "outputs": [
    {
     "name": "stdout",
     "output_type": "stream",
     "text": [
      "97372 / 97372"
     ]
    }
   ],
   "source": [
    "dir_name = \"face_direction_feature\"\n",
    "img_size = 255\n",
    "dst_dir = os.path.join(DS_ROOT, dir_name)\n",
    "aligner = FaceAligner()\n",
    "num = sum([len(lm_dict[key]) for key in lm_dict.keys()])\n",
    "count = 0\n",
    "for pid in sorted(lm_dict.keys()):\n",
    "    result = {}\n",
    "\n",
    "    for fname in sorted(lm_dict[pid].keys()):\n",
    "        count += 1\n",
    "        try:\n",
    "            if fname not in lm_dict[pid]:\n",
    "                continue\n",
    "            if \"detected\" in lm_dict[pid][fname] and not lm_dict[pid][fname][\"detected\"]:\n",
    "                continue\n",
    "        except KeyError as e:\n",
    "            raise e\n",
    "        sys.stdout.write('\\r'+\"%d / %d\" % (count, num))\n",
    "        landmarks = lm_dict[pid][fname]['landmarks']\n",
    "        feature = aligner.get_landmarks_after_align(landmarks, img_size)\n",
    "        result[fname] = feature\n",
    "        \n",
    "    if not os.path.exists(dst_dir):\n",
    "        os.makedirs(dst_dir)\n",
    "    with open(os.path.join(dst_dir, \"%s.json\" % pid), \"w\") as fr:\n",
    "        json.dump(result, fr)"
   ]
  },
  {
   "cell_type": "raw",
   "metadata": {},
   "source": []
  }
 ],
 "metadata": {
  "kernelspec": {
   "display_name": "Python 2",
   "language": "python",
   "name": "python2"
  },
  "language_info": {
   "codemirror_mode": {
    "name": "ipython",
    "version": 2
   },
   "file_extension": ".py",
   "mimetype": "text/x-python",
   "name": "python",
   "nbconvert_exporter": "python",
   "pygments_lexer": "ipython2",
   "version": "2.7.6"
  }
 },
 "nbformat": 4,
 "nbformat_minor": 2
}
