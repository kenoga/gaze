{
 "cells": [
  {
   "cell_type": "code",
   "execution_count": 18,
   "metadata": {},
   "outputs": [],
   "source": [
    "import os, sys\n",
    "import json\n",
    "import glob\n",
    "module_path = os.path.abspath(\"../..\")\n",
    "if module_path not in sys.path:\n",
    "    sys.path.append(module_path)\n",
    "from dataset_utils.config import DS_ROOT"
   ]
  },
  {
   "cell_type": "code",
   "execution_count": 21,
   "metadata": {},
   "outputs": [],
   "source": [
    "def summarize_jsons():\n",
    "    result = {}\n",
    "    new_name = \"all.json\"\n",
    "    dir_name = 'face_bb_and_landmarks'\n",
    "    dir_path = os.path.join(DS_ROOT, dir_name)\n",
    "    jsons = glob.glob(os.path.join(dir_path, '*.json'))\n",
    "    jsons = [j for j in jsons if j != 'all.json']\n",
    "    jsons = sorted(jsons)\n",
    "    for json_file in jsons:\n",
    "        json_path = os.path.join(DS_ROOT, json_file)\n",
    "        with open(json_path, 'r') as fr:\n",
    "            person_id = os.path.basename(json_file).split('.')[0]\n",
    "            dic = json.load(fr)\n",
    "            for fname in sorted(dic.keys()):\n",
    "                try:\n",
    "                    if dic[fname]['detected'] == True:\n",
    "                        del(dic[fname]['detected'])\n",
    "                        result[fname] = dic[fname]\n",
    "                except e:\n",
    "                    print(e)\n",
    "                    print(fname)\n",
    "    \n",
    "    with open(os.path.join(DS_ROOT, dir_name, new_name), \"w\") as fw:\n",
    "        json.dump(result, fw)"
   ]
  },
  {
   "cell_type": "code",
   "execution_count": 22,
   "metadata": {},
   "outputs": [],
   "source": [
    "summarize_jsons()"
   ]
  },
  {
   "cell_type": "code",
   "execution_count": null,
   "metadata": {},
   "outputs": [],
   "source": []
  }
 ],
 "metadata": {
  "kernelspec": {
   "display_name": "Python 2",
   "language": "python",
   "name": "python2"
  },
  "language_info": {
   "codemirror_mode": {
    "name": "ipython",
    "version": 2
   },
   "file_extension": ".py",
   "mimetype": "text/x-python",
   "name": "python",
   "nbconvert_exporter": "python",
   "pygments_lexer": "ipython2",
   "version": "2.7.6"
  }
 },
 "nbformat": 4,
 "nbformat_minor": 2
}
