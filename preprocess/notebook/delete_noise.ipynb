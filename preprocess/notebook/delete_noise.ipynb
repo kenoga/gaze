{
 "cells": [
  {
   "cell_type": "code",
   "execution_count": 41,
   "metadata": {},
   "outputs": [],
   "source": [
    "import os, sys\n",
    "import json\n",
    "module_path = os.path.abspath(\"../..\")\n",
    "if module_path not in sys.path:\n",
    "    sys.path.append(module_path)\n",
    "from dataset_utils.utils import get_bb_and_landmarks_dict\n",
    "from dataset_utils.utils import imshow_by_name\n",
    "from train.utils.ImagePath import ImagePath\n",
    "from dataset_utils.config import DS_ROOT"
   ]
  },
  {
   "cell_type": "code",
   "execution_count": 2,
   "metadata": {},
   "outputs": [],
   "source": [
    "bb_and_lms = get_bb_and_landmarks_dict()"
   ]
  },
  {
   "cell_type": "code",
   "execution_count": 16,
   "metadata": {},
   "outputs": [],
   "source": [
    "ipaths = [ImagePath(fname) for fname in sorted(bb_and_lms.keys())]"
   ]
  },
  {
   "cell_type": "code",
   "execution_count": 36,
   "metadata": {},
   "outputs": [],
   "source": [
    "def is_noise(fname, bb_and_lms):\n",
    "    bb = bb_and_lms[fname]['bb']\n",
    "    left, top, right, bottom = bb\n",
    "    width = (right - left)\n",
    "    \n",
    "    if width < 100:\n",
    "        return True\n",
    "    return False"
   ]
  },
  {
   "cell_type": "code",
   "execution_count": 42,
   "metadata": {},
   "outputs": [],
   "source": [
    "noises = [ipath for ipath in ipaths if is_noise(ipath.img_name, bb_and_lms)]\n",
    "results = {}\n",
    "for noise in noises:\n",
    "    results[noise.img_name] = True\n",
    "with open(os.path.join(DS_ROOT, 'noise_data.json'), \"w\") as fw:\n",
    "    json.dump(results, fw)"
   ]
  },
  {
   "cell_type": "code",
   "execution_count": null,
   "metadata": {},
   "outputs": [],
   "source": []
  }
 ],
 "metadata": {
  "kernelspec": {
   "display_name": "Python 2",
   "language": "python",
   "name": "python2"
  },
  "language_info": {
   "codemirror_mode": {
    "name": "ipython",
    "version": 2
   },
   "file_extension": ".py",
   "mimetype": "text/x-python",
   "name": "python",
   "nbconvert_exporter": "python",
   "pygments_lexer": "ipython2",
   "version": "2.7.6"
  }
 },
 "nbformat": 4,
 "nbformat_minor": 2
}
