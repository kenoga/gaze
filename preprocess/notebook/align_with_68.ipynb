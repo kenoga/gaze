{
 "cells": [
  {
   "cell_type": "code",
   "execution_count": 17,
   "metadata": {},
   "outputs": [],
   "source": [
    "import os, sys\n",
    "import csv\n",
    "import numpy as np\n",
    "import cv2\n",
    "\n",
    "import openface\n",
    "from openface.align_dlib import TEMPLATE\n",
    "\n",
    "module_path = os.path.abspath(\"../\")\n",
    "if module_path not in sys.path:\n",
    "    sys.path.append(module_path)\n",
    "module_path = os.path.abspath(\"../..\")\n",
    "if module_path not in sys.path:\n",
    "    sys.path.append(module_path)\n",
    "\n",
    "from utils.FaceAligner import FaceAligner\n",
    "from dataset_utils.config import DS_ROOT\n",
    "from dataset_utils.utils import get_image_paths\n",
    "from dataset_utils.utils import imshow, imshow_by_name\n",
    "from dataset_utils.utils import get_bb_and_landmarks_dict\n",
    "\n",
    "from utils.utils import apply_func_against_srcdir_and_save_to_dstdir\n",
    "\n",
    "from alignment import Alignment"
   ]
  },
  {
   "cell_type": "code",
   "execution_count": 18,
   "metadata": {},
   "outputs": [
    {
     "name": "stdout",
     "output_type": "stream",
     "text": [
      "/root/gaze/dataset_utils/utils.pyc\n"
     ]
    }
   ],
   "source": [
    "paths = get_image_paths('transformed')\n",
    "bb_and_landmarks = get_bb_and_landmarks_dict()\n",
    "triangles = load_triangles()\n",
    "size = 128\n",
    "aligner = Alignment(size, TEMPLATE, triangles)"
   ]
  },
  {
   "cell_type": "code",
   "execution_count": 22,
   "metadata": {},
   "outputs": [],
   "source": [
    "def align_68(img, img_name, aligner=None, bblms=None):\n",
    "    assert aligner is not None\n",
    "    assert bblms is not None\n",
    "    if img_name not in bblms:\n",
    "        return None\n",
    "    landmarks = bb_and_landmarks[img_name]['landmarks']\n",
    "    aligned_img = aligner.align(img, landmarks)\n",
    "    \n",
    "    return aligned_img\n",
    "\n",
    "#     eye_top = int(size * openface.align_dlib.TEMPLATE[37][1]) - 5\n",
    "#     eye_bottom =int(size * openface.align_{dlib.TEMPLATE[41][1]) + 5\n",
    "#     eyes = aligned_img[eye_top: eye_bottom]\n",
    "#     return eyes"
   ]
  },
  {
   "cell_type": "code",
   "execution_count": null,
   "metadata": {},
   "outputs": [
    {
     "name": "stdout",
     "output_type": "stream",
     "text": [
      "99710\n",
      "32013 / 99710"
     ]
    }
   ],
   "source": [
    "src_dir = os.path.join(DS_ROOT, \"transformed\")\n",
    "dst_dir = os.path.join(DS_ROOT, \"aligned_with_68\")\n",
    "apply_func_against_srcdir_and_save_to_dstdir(src_dir, dst_dir, align_68, \\\n",
    "                                                 give_fname=True, \\\n",
    "                                                 aligner=aligner, \\\n",
    "                                                 bblms=bb_and_landmarks)"
   ]
  }
 ],
 "metadata": {
  "kernelspec": {
   "display_name": "Python 2",
   "language": "python",
   "name": "python2"
  },
  "language_info": {
   "codemirror_mode": {
    "name": "ipython",
    "version": 2
   },
   "file_extension": ".py",
   "mimetype": "text/x-python",
   "name": "python",
   "nbconvert_exporter": "python",
   "pygments_lexer": "ipython2",
   "version": "2.7.6"
  }
 },
 "nbformat": 4,
 "nbformat_minor": 2
}
