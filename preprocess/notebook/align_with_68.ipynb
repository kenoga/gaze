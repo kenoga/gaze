{
 "cells": [
  {
   "cell_type": "code",
   "execution_count": 1,
   "metadata": {},
   "outputs": [],
   "source": [
    "import os, sys\n",
    "import csv\n",
    "import numpy as np\n",
    "import cv2\n",
    "\n",
    "import openface\n",
    "from openface.align_dlib import TEMPLATE\n",
    "\n",
    "module_path = os.path.abspath(\"../\")\n",
    "if module_path not in sys.path:\n",
    "    sys.path.append(module_path)\n",
    "module_path = os.path.abspath(\"../..\")\n",
    "if module_path not in sys.path:\n",
    "    sys.path.append(module_path)\n",
    "\n",
    "from utils.FaceAligner import FaceAligner\n",
    "from dataset_utils.config import DS_ROOT\n",
    "from dataset_utils.utils import get_image_paths\n",
    "from dataset_utils.utils import imshow, imshow_by_name\n",
    "from dataset_utils.utils import get_bb_and_landmarks_dict\n",
    "from dataset_utils.utils import load_triangles\n",
    "\n",
    "from utils.utils import apply_func_against_srcdir_and_save_to_dstdir\n",
    "\n",
    "from alignment import Alignment"
   ]
  },
  {
   "cell_type": "code",
   "execution_count": 4,
   "metadata": {},
   "outputs": [
    {
     "name": "stdout",
     "output_type": "stream",
     "text": [
      "/root/gaze/dataset_utils/utils.pyc\n"
     ]
    }
   ],
   "source": [
    "paths = get_image_paths('transformed')\n",
    "aligned_eye_paths = get_image_paths('both_eyes_from_aligned_face2')\n",
    "bb_and_landmarks = get_bb_and_landmarks_dict()\n",
    "triangles = load_triangles()"
   ]
  },
  {
   "cell_type": "code",
   "execution_count": 5,
   "metadata": {},
   "outputs": [],
   "source": [
    "size = 128\n",
    "aligner = Alignment(size, TEMPLATE, triangles)"
   ]
  },
  {
   "cell_type": "code",
   "execution_count": null,
   "metadata": {},
   "outputs": [],
   "source": [
    "for path in paths[pid][:100]:\n",
    "    fname = os.path.basename(path)\n",
    "    if fname not in bb_and_landmarks:\n",
    "        continue\n",
    "        \n",
    "    landmarks = bb_and_landmarks[fname]['landmarks']\n",
    "    img = cv2.imread(path)\n",
    "    aligned_img = aligner.align(img, landmarks)\n",
    "    \n",
    "    for lm in landmarks:\n",
    "        cv2.circle(img, (lm[0], lm[1]), 1, (0, 0, 255), 1)\n",
    "        \n",
    "    print(fname)\n",
    "    imshow(img)\n",
    "    eye_path = os.path.join(DS_ROOT, \"both_eyes_from_aligned_face2\", pid,fname)\n",
    "    print(eye_path)\n",
    "    imshow(cv2.imread(eye_path))\n",
    "    imshow(aligned_img)\n",
    "    eye_top = int(size * TEMPLATE[37][1]) - 5\n",
    "    eye_bottom =int(size * TEMPLATE[41][1]) + 5\n",
    "    eyes = aligned_img[eye_top: eye_bottom]\n",
    "    imshow(eyes)"
   ]
  },
  {
   "cell_type": "code",
   "execution_count": 15,
   "metadata": {},
   "outputs": [],
   "source": [
    "def align_68_and_extract_eyes(img, img_name, bblms=None):\n",
    "    if img_name not in bblms:\n",
    "        return None\n",
    "    landmarks = bb_and_landmarks[img_name]['landmarks']\n",
    "    aligned_img = aligner.align(img, landmarks)\n",
    "\n",
    "    eye_top = int(size * openface.align_dlib.TEMPLATE[37][1]) - 5\n",
    "    eye_bottom =int(size * openface.align_dlib.TEMPLATE[41][1]) + 5\n",
    "    eyes = aligned_img[eye_top: eye_bottom]\n",
    "    return eyes"
   ]
  },
  {
   "cell_type": "code",
   "execution_count": 16,
   "metadata": {},
   "outputs": [
    {
     "name": "stdout",
     "output_type": "stream",
     "text": [
      "99710\n",
      "99710 / 99710"
     ]
    }
   ],
   "source": [
    "src_dir = os.path.join(DS_ROOT, \"transformed\")\n",
    "dst_dir = os.path.join(DS_ROOT, \"both_eyes_from_aligned_with_68\")\n",
    "apply_func_against_srcdir_and_save_to_dstdir(src_dir, dst_dir, align_68_and_extract_eyes, \\\n",
    "                                                 give_fname=True, \\\n",
    "                                                 bblms=bb_and_landmarks)"
   ]
  },
  {
   "cell_type": "code",
   "execution_count": null,
   "metadata": {},
   "outputs": [],
   "source": []
  },
  {
   "cell_type": "code",
   "execution_count": null,
   "metadata": {},
   "outputs": [],
   "source": []
  }
 ],
 "metadata": {
  "kernelspec": {
   "display_name": "Python 2",
   "language": "python",
   "name": "python2"
  },
  "language_info": {
   "codemirror_mode": {
    "name": "ipython",
    "version": 2
   },
   "file_extension": ".py",
   "mimetype": "text/x-python",
   "name": "python",
   "nbconvert_exporter": "python",
   "pygments_lexer": "ipython2",
   "version": "2.7.6"
  }
 },
 "nbformat": 4,
 "nbformat_minor": 2
}
