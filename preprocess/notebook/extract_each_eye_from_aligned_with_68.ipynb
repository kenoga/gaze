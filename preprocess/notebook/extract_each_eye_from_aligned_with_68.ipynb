{
 "cells": [
  {
   "cell_type": "markdown",
   "metadata": {},
   "source": [
    "# 68点正規化した画像から両目をそれぞれ切り出す\n",
    "- その際目の大きさにマージンをもたす（少しの顔基準点を許容するため）\n",
    "- 目のheightが6pxなら縦横どちらにも6pxずつのマージンを持たせる"
   ]
  },
  {
   "cell_type": "code",
   "execution_count": 9,
   "metadata": {},
   "outputs": [],
   "source": [
    "import os, sys\n",
    "import csv\n",
    "import numpy as np\n",
    "import cv2\n",
    "\n",
    "module_path = os.path.abspath(\"../\")\n",
    "if module_path not in sys.path:\n",
    "    sys.path.append(module_path)\n",
    "module_path = os.path.abspath(\"../..\")\n",
    "if module_path not in sys.path:\n",
    "    sys.path.append(module_path)\n",
    "\n",
    "from utils.FaceAligner import FaceAligner\n",
    "from dataset_utils.config import DS_ROOT\n",
    "from dataset_utils.utils import get_image_paths\n",
    "from dataset_utils.utils import imshow, imshow_by_name, imshow_by_path\n",
    "from dataset_utils.utils import extract_eyes_region_from_aligned_face\n",
    "from dataset_utils.utils import extract_eye_regions_from_aligned_face\n",
    "from dataset_utils.utils import gray\n",
    "from dataset_utils.utils import eqhist"
   ]
  },
  {
   "cell_type": "code",
   "execution_count": 10,
   "metadata": {},
   "outputs": [],
   "source": [
    "pid2paths = get_image_paths(\"aligned_with_68\")"
   ]
  },
  {
   "cell_type": "markdown",
   "metadata": {},
   "source": [
    "## カラー保存"
   ]
  },
  {
   "cell_type": "code",
   "execution_count": 16,
   "metadata": {},
   "outputs": [
    {
     "name": "stdout",
     "output_type": "stream",
     "text": [
      "0001\n",
      "0002\n",
      "0003\n"
     ]
    },
    {
     "ename": "KeyboardInterrupt",
     "evalue": "",
     "output_type": "error",
     "traceback": [
      "\u001b[0;31m---------------------------------------------------------------------------\u001b[0m",
      "\u001b[0;31mKeyboardInterrupt\u001b[0m                         Traceback (most recent call last)",
      "\u001b[0;32m<ipython-input-16-cf94bfc48a04>\u001b[0m in \u001b[0;36m<module>\u001b[0;34m()\u001b[0m\n\u001b[1;32m     13\u001b[0m         \u001b[0mright_fname\u001b[0m \u001b[0;34m=\u001b[0m \u001b[0mfname\u001b[0m\u001b[0;34m.\u001b[0m\u001b[0msplit\u001b[0m\u001b[0;34m(\u001b[0m\u001b[0;34m\".\"\u001b[0m\u001b[0;34m)\u001b[0m\u001b[0;34m[\u001b[0m\u001b[0;36m0\u001b[0m\u001b[0;34m]\u001b[0m \u001b[0;34m+\u001b[0m \u001b[0;34m\"_right.jpg\"\u001b[0m\u001b[0;34m\u001b[0m\u001b[0m\n\u001b[1;32m     14\u001b[0m         \u001b[0mcv2\u001b[0m\u001b[0;34m.\u001b[0m\u001b[0mimwrite\u001b[0m\u001b[0;34m(\u001b[0m\u001b[0mos\u001b[0m\u001b[0;34m.\u001b[0m\u001b[0mpath\u001b[0m\u001b[0;34m.\u001b[0m\u001b[0mjoin\u001b[0m\u001b[0;34m(\u001b[0m\u001b[0mdst_dir\u001b[0m\u001b[0;34m,\u001b[0m \u001b[0msubdir\u001b[0m\u001b[0;34m,\u001b[0m \u001b[0mleft_fname\u001b[0m\u001b[0;34m)\u001b[0m\u001b[0;34m,\u001b[0m \u001b[0mleft\u001b[0m\u001b[0;34m)\u001b[0m\u001b[0;34m\u001b[0m\u001b[0m\n\u001b[0;32m---> 15\u001b[0;31m         \u001b[0mcv2\u001b[0m\u001b[0;34m.\u001b[0m\u001b[0mimwrite\u001b[0m\u001b[0;34m(\u001b[0m\u001b[0mos\u001b[0m\u001b[0;34m.\u001b[0m\u001b[0mpath\u001b[0m\u001b[0;34m.\u001b[0m\u001b[0mjoin\u001b[0m\u001b[0;34m(\u001b[0m\u001b[0mdst_dir\u001b[0m\u001b[0;34m,\u001b[0m \u001b[0msubdir\u001b[0m\u001b[0;34m,\u001b[0m \u001b[0mright_fname\u001b[0m\u001b[0;34m)\u001b[0m\u001b[0;34m,\u001b[0m \u001b[0mright\u001b[0m\u001b[0;34m)\u001b[0m\u001b[0;34m\u001b[0m\u001b[0m\n\u001b[0m",
      "\u001b[0;31mKeyboardInterrupt\u001b[0m: "
     ]
    }
   ],
   "source": [
    "dst_dir = os.path.join(DS_ROOT, \"each_eye_from_aligned_with_68\")\n",
    "if not os.path.exists(dst_dir):\n",
    "    os.mkdir(dst_dir)\n",
    "for subdir, paths in sorted(pid2paths.items()):\n",
    "    print(subdir)\n",
    "    if not os.path.exists(os.path.join(dst_dir, subdir)):\n",
    "        os.mkdir(os.path.join(dst_dir, subdir))\n",
    "    for path in sorted(paths):\n",
    "        fname = os.path.basename(path)\n",
    "        img = cv2.imread(path)\n",
    "        left, right = extract_eye_regions_from_aligned_face(img, margin=6)\n",
    "        left_fname = fname.split(\".\")[0] + \"_left.jpg\"\n",
    "        right_fname = fname.split(\".\")[0] + \"_right.jpg\"\n",
    "        cv2.imwrite(os.path.join(dst_dir, subdir, left_fname), left)\n",
    "        cv2.imwrite(os.path.join(dst_dir, subdir, right_fname), right)"
   ]
  },
  {
   "cell_type": "markdown",
   "metadata": {},
   "source": [
    "## 白黒ヒストグラム保存"
   ]
  },
  {
   "cell_type": "code",
   "execution_count": 17,
   "metadata": {},
   "outputs": [
    {
     "name": "stdout",
     "output_type": "stream",
     "text": [
      "0001\n",
      "0002\n",
      "0003\n",
      "0004\n",
      "0005\n",
      "0006\n",
      "0007\n",
      "0008\n",
      "0009\n",
      "0010\n",
      "0011\n",
      "0012\n",
      "0013\n",
      "0014\n",
      "0015\n",
      "0016\n",
      "0017\n"
     ]
    }
   ],
   "source": [
    "dst_dir = os.path.join(DS_ROOT, \"each_eye_from_aligned_with_68_eqhist\")\n",
    "if not os.path.exists(dst_dir):\n",
    "    os.mkdir(dst_dir)\n",
    "for subdir, paths in sorted(pid2paths.items()):\n",
    "    print(subdir)\n",
    "    if not os.path.exists(os.path.join(dst_dir, subdir)):\n",
    "        os.mkdir(os.path.join(dst_dir, subdir))\n",
    "    for path in sorted(paths):\n",
    "        fname = os.path.basename(path)\n",
    "        img = cv2.imread(path)\n",
    "        left, right = extract_eye_regions_from_aligned_face(img, margin=6)\n",
    "        left_fname = fname.split(\".\")[0] + \"_left.jpg\"\n",
    "        right_fname = fname.split(\".\")[0] + \"_right.jpg\"\n",
    "        cv2.imwrite(os.path.join(dst_dir, subdir, left_fname), eqhist(gray(left)))\n",
    "        cv2.imwrite(os.path.join(dst_dir, subdir, right_fname), eqhist(gray(right)))"
   ]
  },
  {
   "cell_type": "code",
   "execution_count": null,
   "metadata": {},
   "outputs": [],
   "source": []
  }
 ],
 "metadata": {
  "kernelspec": {
   "display_name": "Python 2",
   "language": "python",
   "name": "python2"
  },
  "language_info": {
   "codemirror_mode": {
    "name": "ipython",
    "version": 2
   },
   "file_extension": ".py",
   "mimetype": "text/x-python",
   "name": "python",
   "nbconvert_exporter": "python",
   "pygments_lexer": "ipython2",
   "version": "2.7.6"
  }
 },
 "nbformat": 4,
 "nbformat_minor": 2
}
