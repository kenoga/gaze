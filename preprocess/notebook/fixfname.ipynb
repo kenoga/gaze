{
 "cells": [
  {
   "cell_type": "code",
   "execution_count": 4,
   "metadata": {},
   "outputs": [],
   "source": [
    "import os, sys\n",
    "import shutil\n",
    "import json\n",
    "\n",
    "root_module = os.path.abspath(os.path.join(\"..\", \"..\"))\n",
    "sys.path.append(root_module)\n",
    "\n",
    "from dataset_utils.utils import DS_ROOT"
   ]
  },
  {
   "cell_type": "code",
   "execution_count": 5,
   "metadata": {},
   "outputs": [],
   "source": [
    "root_dir = \"./data/kobas-omni-eyecontact/\"\n",
    "subdirs = [\"movie\", \"image\", \"transformed_image\", \"face_image\"]\n",
    "\n",
    "for subdir in subdirs:\n",
    "    old_dir = os.path.join(root_dir, subdir, \"0017\")\n",
    "    new_dir = os.path.join(root_dir, subdir, \"0017\")\n",
    "    \n",
    "    if not os.path.exists(old_dir):\n",
    "        raise Exception(\"%s does not exists\" % old_dir)\n",
    "    \n",
    "    target_fnames = [d for d in os.listdir(old_dir) if d.split(\"_\")[2] in {\"B\", \"C\"}]\n",
    "    \n",
    "    for tf in target_fnames:\n",
    "        new_tf = tf.replace(\"0012\", \"0017\")\n",
    "        old_path = os.path.join(old_dir, tf)\n",
    "        new_path = os.path.join(new_dir, new_tf)\n",
    "        shutil.move(old_path, new_path)\n",
    "    \n",
    "    \n",
    "    "
   ]
  },
  {
   "cell_type": "markdown",
   "metadata": {},
   "source": [
    "## pid4と5の顔特徴dictのfnameをかえる"
   ]
  },
  {
   "cell_type": "code",
   "execution_count": 6,
   "metadata": {},
   "outputs": [
    {
     "name": "stdout",
     "output_type": "stream",
     "text": [
      "0003_0_B_04_00000018.jpg\n",
      "0002_0_A_01_00000079.jpg\n",
      "0001_0_A_01_00000008.jpg\n",
      "0003_0_C_10_00000085.jpg\n",
      "0003_0_B_13_00000123.jpg\n",
      "0002_0_A_21_00000136.jpg\n",
      "0003_0_C_50_00000073.jpg\n",
      "0003_0_C_11_00000057.jpg\n",
      "0002_0_D_07_00000061.jpg\n",
      "0004_0_B_03_00000052.jpg\n"
     ]
    }
   ],
   "source": [
    "face_feature_dir = os.path.join(DS_ROOT, \"face_direction_feature\")\n",
    "fname = \"0004.json\"\n",
    "\n",
    "with open(os.path.join(face_feature_dir, fname)) as fr:\n",
    "    dict = json.load(fr)\n",
    "    \n",
    "for fname, value in dict.items()[:10]:\n",
    "    print(fname)\n"
   ]
  },
  {
   "cell_type": "code",
   "execution_count": null,
   "metadata": {},
   "outputs": [],
   "source": []
  }
 ],
 "metadata": {
  "kernelspec": {
   "display_name": "Python 2",
   "language": "python",
   "name": "python2"
  },
  "language_info": {
   "codemirror_mode": {
    "name": "ipython",
    "version": 2
   },
   "file_extension": ".py",
   "mimetype": "text/x-python",
   "name": "python",
   "nbconvert_exporter": "python",
   "pygments_lexer": "ipython2",
   "version": "2.7.6"
  }
 },
 "nbformat": 4,
 "nbformat_minor": 2
}
