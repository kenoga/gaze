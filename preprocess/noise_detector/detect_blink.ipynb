{
 "cells": [
  {
   "cell_type": "code",
   "execution_count": 26,
   "metadata": {},
   "outputs": [],
   "source": [
    "import os, sys\n",
    "import json\n",
    "import random\n",
    "import cv2\n",
    "\n",
    "from sklearn.metrics import confusion_matrix\n",
    "from sklearn.ensemble import RandomForestClassifier\n",
    "# from sklearn.ensemble import GradientBoostingClassifier\n",
    "from sklearn.metrics import f1_score\n",
    "from sklearn.metrics import recall_score\n",
    "from sklearn.metrics import precision_score\n",
    "# from sklearn.model_selection import GridSearchCV\n",
    "# from sklearn.metrics import make_scorer\n",
    "\n",
    "module_path = os.path.abspath(os.path.join(\"..\", \"..\"))\n",
    "sys.path.append(module_path)\n",
    "from dataset_utils.config import DS_ROOT\n",
    "from dataset_utils.utils import imshow_by_path, imshow_by_name\n",
    "\n",
    "from dataset_utils.Dataset import Dataset\n",
    "from dataset_utils.utils import extract_eyes_region_from_aligned_face, gray, eqhist\n",
    "\n",
    "import data_provider"
   ]
  },
  {
   "cell_type": "markdown",
   "metadata": {},
   "source": [
    "# ひとまず，瞬きを負例として扱う"
   ]
  },
  {
   "cell_type": "code",
   "execution_count": 38,
   "metadata": {},
   "outputs": [],
   "source": [
    "ANT_PATH = \"./annotations.json\"\n",
    "DATA_DIR = os.path.join(DS_ROOT, \"aligned_with_68\")\n",
    "with open(ANT_PATH, \"r\") as fr:\n",
    "    ant = json.load(fr)\n",
    "\n",
    "blink = {}\n",
    "for name, label in sorted(ant.items()):\n",
    "    if label == \"blink\":\n",
    "        blink[name] = True\n",
    "        \n",
    "invalid = {}\n",
    "for name, label in sorted(ant.items()):\n",
    "    if label == \"invalid_target\":\n",
    "        invalid[name] = True"
   ]
  },
  {
   "cell_type": "code",
   "execution_count": 35,
   "metadata": {},
   "outputs": [],
   "source": [
    "with open(os.path.join(DS_ROOT, \"blink.json\"),  \"w\") as fw:\n",
    "    json.dump(blink, fw)"
   ]
  },
  {
   "cell_type": "code",
   "execution_count": 43,
   "metadata": {},
   "outputs": [],
   "source": [
    "with open(os.path.join(DS_ROOT, \"invalid.json\"), \"w\") as fw:\n",
    "    json.dump(invalid, fw)"
   ]
  },
  {
   "cell_type": "code",
   "execution_count": null,
   "metadata": {},
   "outputs": [],
   "source": []
  }
 ],
 "metadata": {
  "kernelspec": {
   "display_name": "Python 2",
   "language": "python",
   "name": "python2"
  },
  "language_info": {
   "codemirror_mode": {
    "name": "ipython",
    "version": 2
   },
   "file_extension": ".py",
   "mimetype": "text/x-python",
   "name": "python",
   "nbconvert_exporter": "python",
   "pygments_lexer": "ipython2",
   "version": "2.7.6"
  }
 },
 "nbformat": 4,
 "nbformat_minor": 2
}
