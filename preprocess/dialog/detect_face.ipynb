{
 "cells": [
  {
   "cell_type": "code",
   "execution_count": 1,
   "metadata": {},
   "outputs": [],
   "source": [
    "# -*- coding: utf-8 -*-\n",
    "import os, sys\n",
    "import glob\n",
    "import json\n",
    "sys.path.append(\"..\")\n",
    "sys.path.append(\"../..\")\n",
    "import dataset_utils.utils as utils\n",
    "import dataset_utils.config as config\n",
    "from utils.FaceAligner import FaceAligner"
   ]
  },
  {
   "cell_type": "code",
   "execution_count": 2,
   "metadata": {},
   "outputs": [],
   "source": [
    "src_dir = os.path.join(config.DS_DIALOG, \"transformed_split\")\n",
    "tgt_dir = os.path.join(config.DS_DIALOG, \"face\")\n",
    "movie_files = [\"01_01.MP4\", \"01_02.MP4\", \"02_01.MP4\", \"02_02.MP4\", \"03_01.MP4\", \"03_02.MP4\"]\n",
    "json_dir = os.path.join(config.DS_DIALOG, \"face_bb_and_landmarks\")"
   ]
  },
  {
   "cell_type": "code",
   "execution_count": null,
   "metadata": {},
   "outputs": [],
   "source": [
    "for movie_file in movie_files:\n",
    "    print(movie_file)\n",
    "    \n",
    "    movie_id = movie_file.split(\".\")[0]\n",
    "    src_sub_dir = os.path.join(src_dir, movie_id)\n",
    "    tgt_sub_dir = os.path.join(tgt_dir, movie_id)\n",
    "    if not os.path.exists(tgt_sub_dir):\n",
    "        os.makedirs(tgt_sub_dir)\n",
    "    if not os.path.exists(json_dir):\n",
    "        os.makedirs(json_dir)\n",
    "    json_path = os.path.join(json_dir, \"%s.json\" % movie_id)\n",
    "        \n",
    "    aligner = FaceAligner()\n",
    "\n",
    "    src_paths = sorted(glob.glob(os.path.join(src_sub_dir, \"*.png\")))\n",
    "    results = {}\n",
    "    for i, path in enumerate(src_paths):\n",
    "\n",
    "        fname = os.path.basename(path)\n",
    "        fid, ext = tuple(fname.split(\".\"))\n",
    "        \n",
    "        # 途中から\n",
    "        if movie_id == \"01_01\" and int(fid.split(\"_\")[0]) < 3600:\n",
    "            continue\n",
    "        \n",
    "        img = utils.imread(path)\n",
    "        bbs = aligner.bbs(img=img)\n",
    "\n",
    "        if bbs is not None or len(bbs) < 1:\n",
    "            results[fname] = []\n",
    "            for i, bb in enumerate(bbs):\n",
    "                result = {}\n",
    "                landmarks = aligner.landmarks(img=img, bb=bb)\n",
    "                # save face img\n",
    "                face_img = img[bb.top():bb.bottom(), bb.left():bb.right()]\n",
    "                if i > 0:\n",
    "                    face_img_name = \".\".join([\"_\".join([fid, str(i)]), ext])\n",
    "                else:\n",
    "                    face_img_name = fname\n",
    "                utils.imwrite(os.path.join(tgt_sub_dir, face_img_name), face_img)\n",
    "                result['bb'] = [bb.left(), bb.top(), bb.right(), bb.bottom()]\n",
    "                result[\"landmarks\"] = landmarks\n",
    "                results[fname].append(result)\n",
    "\n",
    "    with open(json_path, \"w\") as fr:\n",
    "        json.dump(results, fr, sort_keys=True)\n",
    "    utils.notify(\"detect_face (%s) done!!\" % movie_id)\n",
    "utils.notify(\"@nogaken detect_face done!!\")"
   ]
  }
 ],
 "metadata": {
  "kernelspec": {
   "display_name": "Python 2",
   "language": "python",
   "name": "python2"
  },
  "language_info": {
   "codemirror_mode": {
    "name": "ipython",
    "version": 2
   },
   "file_extension": ".py",
   "mimetype": "text/x-python",
   "name": "python",
   "nbconvert_exporter": "python",
   "pygments_lexer": "ipython2",
   "version": "2.7.6"
  }
 },
 "nbformat": 4,
 "nbformat_minor": 2
}
