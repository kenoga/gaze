{
 "cells": [
  {
   "cell_type": "code",
   "execution_count": 1,
   "metadata": {},
   "outputs": [],
   "source": [
    "import os, sys\n",
    "import glob\n",
    "sys.path.append(\"..\")\n",
    "sys.path.append(\"../..\")\n",
    "import dataset_utils.utils as utils\n",
    "import dataset_utils.config as config"
   ]
  },
  {
   "cell_type": "code",
   "execution_count": 2,
   "metadata": {},
   "outputs": [],
   "source": [
    "src_dir = os.path.join(config.DS_DIALOG, \"transformed\")\n",
    "# movie_files = [\"omni_dialog_pilot_01.MP4\"]\n",
    "movie_files = [\"04_01.MP4\", \"04_02.MP4\", \"05_01.MP4\", \"05_02.MP4\", \"01_01.MP4\", \"01_02.MP4\", \"02_01.MP4\", \"02_02.MP4\", \"03_01.MP4\", \"03_02.MP4\"]\n",
    "# movie_files = [\"05_01.MP4\", \"05_02.MP4\"]\n",
    "tgt_dir = os.path.join(config.DS_DIALOG, \"transformed_split\")"
   ]
  },
  {
   "cell_type": "code",
   "execution_count": null,
   "metadata": {},
   "outputs": [],
   "source": [
    "for movie_file in movie_files:\n",
    "    movie_id = movie_file.split(\".\")[0]\n",
    "    src_sub_dir = os.path.join(src_dir, movie_id)\n",
    "    tgt_sub_dir = os.path.join(tgt_dir, movie_id)\n",
    "    \n",
    "    if not os.path.exists(tgt_sub_dir):\n",
    "        os.makedirs(tgt_sub_dir)\n",
    "\n",
    "    src_paths = sorted(glob.glob(os.path.join(src_sub_dir, \"*.png\")))\n",
    "    for i, path in enumerate(src_paths):\n",
    "#         print(\"%d / %d\" % (i+1, len(src_paths)))\n",
    "\n",
    "        fname = os.path.basename(path)\n",
    "        fid, fmt = tuple(fname.split(\".\"))\n",
    "        img = utils.imread(path)\n",
    "        if img is None:\n",
    "            utils.notify(\"split_panorama failed at %s\" % path)\n",
    "            continue\n",
    "        \n",
    "        for place in [\"A\", \"B\",\"C\", \"D\"]:\n",
    "            t_img_id = \"_\".join([fid, place])\n",
    "            t_img_name = \".\".join([t_img_id, fmt])\n",
    "            t_img_path = os.path.join(tgt_sub_dir, t_img_name)\n",
    "#             if os.path.exists(t_img_path):\n",
    "#                 continue\n",
    "            t_img = utils.get_place_region_in_panorama(img, place)\n",
    "            utils.imwrite(t_img_path, t_img)\n",
    "#             print(\"%s -> %s\" % (path, t_img_path))\n",
    "    utils.notify(\"@nogaken split (%s) done!!\" % movie_id)    \n",
    "utils.notify(\"@nogaken split done!!\")"
   ]
  },
  {
   "cell_type": "code",
   "execution_count": null,
   "metadata": {},
   "outputs": [],
   "source": []
  }
 ],
 "metadata": {
  "kernelspec": {
   "display_name": "Python 2",
   "language": "python",
   "name": "python2"
  },
  "language_info": {
   "codemirror_mode": {
    "name": "ipython",
    "version": 2
   },
   "file_extension": ".py",
   "mimetype": "text/x-python",
   "name": "python",
   "nbconvert_exporter": "python",
   "pygments_lexer": "ipython2",
   "version": "2.7.6"
  }
 },
 "nbformat": 4,
 "nbformat_minor": 2
}
