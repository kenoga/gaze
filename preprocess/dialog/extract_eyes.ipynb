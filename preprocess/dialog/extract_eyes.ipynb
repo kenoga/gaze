{
 "cells": [
  {
   "cell_type": "code",
   "execution_count": 1,
   "metadata": {},
   "outputs": [],
   "source": [
    "# -*- coding: utf-8 -*-\n",
    "import os, sys\n",
    "\n",
    "import glob\n",
    "sys.path.append(\"..\")\n",
    "sys.path.append(\"../..\")\n",
    "import dataset_utils.utils as utils\n",
    "import dataset_utils.config as config"
   ]
  },
  {
   "cell_type": "code",
   "execution_count": 2,
   "metadata": {},
   "outputs": [],
   "source": [
    "src_dir = os.path.join(config.DS_DIALOG, \"aligned_face\")\n",
    "tgt_dir = os.path.join(config.DS_DIALOG, \"both_eyes_from_aligned_face\")\n",
    "movie_files = [\"01_01.MP4\", \"01_02.MP4\", \"02_01.MP4\", \"02_02.MP4\", \"04_01.MP4\", \"04_02.MP4\", \"05_01.MP4\", \"05_02.MP4\", \"03_01.MP4\", \"03_02.MP4\"]\n"
   ]
  },
  {
   "cell_type": "code",
   "execution_count": 3,
   "metadata": {},
   "outputs": [
    {
     "name": "stdout",
     "output_type": "stream",
     "text": [
      "01_01.MP4\n",
      "01_02.MP4\n",
      "02_01.MP4\n",
      "02_02.MP4\n",
      "04_01.MP4\n",
      "04_02.MP4\n",
      "05_01.MP4\n",
      "05_02.MP4\n",
      "03_01.MP4\n",
      "03_02.MP4\n"
     ]
    }
   ],
   "source": [
    "for movie_file in movie_files:\n",
    "    print(movie_file)\n",
    "    movie_id = movie_file.split(\".\")[0]\n",
    "    src_sub_dir = os.path.join(src_dir, movie_id)\n",
    "    tgt_sub_dir = os.path.join(tgt_dir, movie_id)\n",
    "    if not os.path.exists(tgt_sub_dir):\n",
    "        os.makedirs(tgt_sub_dir)\n",
    "        \n",
    "    src_paths = sorted(glob.glob(os.path.join(src_sub_dir, \"*.png\")))\n",
    "    for i, path in enumerate(src_paths):\n",
    "        img_name = os.path.basename(path)\n",
    "\n",
    "        img = utils.imread(path)\n",
    "        height = img.shape[0]\n",
    "        \n",
    "        tgt_path = os.path.join(tgt_sub_dir, img_name)\n",
    "        eyes = img[:int(height * 0.3)]\n",
    "        utils.imwrite(tgt_path, eyes)\n",
    "\n",
    "utils.notify(\"@nogaken extract_eyes done!!\")"
   ]
  },
  {
   "cell_type": "code",
   "execution_count": null,
   "metadata": {},
   "outputs": [],
   "source": []
  }
 ],
 "metadata": {
  "kernelspec": {
   "display_name": "Python 2",
   "language": "python",
   "name": "python2"
  },
  "language_info": {
   "codemirror_mode": {
    "name": "ipython",
    "version": 2
   },
   "file_extension": ".py",
   "mimetype": "text/x-python",
   "name": "python",
   "nbconvert_exporter": "python",
   "pygments_lexer": "ipython2",
   "version": "2.7.6"
  }
 },
 "nbformat": 4,
 "nbformat_minor": 2
}
