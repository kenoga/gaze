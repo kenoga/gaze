{
 "cells": [
  {
   "cell_type": "code",
   "execution_count": 1,
   "metadata": {},
   "outputs": [],
   "source": [
    "# -*- coding: utf-8 -*-\n",
    "import os, sys\n",
    "import json\n",
    "\n",
    "import glob\n",
    "sys.path.append(\"..\")\n",
    "sys.path.append(\"../..\")\n",
    "import dataset_utils.utils as utils\n",
    "import dataset_utils.config as config\n",
    "import cv2\n",
    "import dlib\n",
    "import openface\n",
    "\n",
    "from utils.FaceAligner import FaceAligner"
   ]
  },
  {
   "cell_type": "code",
   "execution_count": 2,
   "metadata": {},
   "outputs": [],
   "source": [
    "size = 96\n",
    "indices = openface.AlignDlib.OUTER_EYES_AND_NOSE\n",
    "src_dir = os.path.join(config.DS_DIALOG_PILOT, \"transformed\")\n",
    "tgt_dir = os.path.join(config.DS_DIALOG_PILOT, \"aligned_face\")\n",
    "# movie_files = [\"omni_dialog_pilot_01.MP4\"]\n",
    "movie_files = [\"omni_dialog_pilot_02_01.MP4\", \"omni_dialog_pilot_02_02.MP4\"]\n",
    "json_dir = os.path.join(config.DS_DIALOG_PILOT, \"face_bb_and_landmarks\")\n",
    "aligner = FaceAligner()"
   ]
  },
  {
   "cell_type": "code",
   "execution_count": null,
   "metadata": {},
   "outputs": [
    {
     "name": "stderr",
     "output_type": "stream",
     "text": [
      "IOPub data rate exceeded.\n",
      "The notebook server will temporarily stop sending output\n",
      "to the client in order to avoid crashing it.\n",
      "To change this limit, set the config variable\n",
      "`--NotebookApp.iopub_data_rate_limit`.\n",
      "\n",
      "Current values:\n",
      "NotebookApp.iopub_data_rate_limit=1000000.0 (bytes/sec)\n",
      "NotebookApp.rate_limit_window=3.0 (secs)\n",
      "\n"
     ]
    },
    {
     "name": "stdout",
     "output_type": "stream",
     "text": [
      "\n",
      "2 / 5238\n",
      "00000001_B.jpg\n"
     ]
    },
    {
     "name": "stderr",
     "output_type": "stream",
     "text": [
      "IOPub data rate exceeded.\n",
      "The notebook server will temporarily stop sending output\n",
      "to the client in order to avoid crashing it.\n",
      "To change this limit, set the config variable\n",
      "`--NotebookApp.iopub_data_rate_limit`.\n",
      "\n",
      "Current values:\n",
      "NotebookApp.iopub_data_rate_limit=1000000.0 (bytes/sec)\n",
      "NotebookApp.rate_limit_window=3.0 (secs)\n",
      "\n"
     ]
    },
    {
     "name": "stdout",
     "output_type": "stream",
     "text": [
      "1624 / 5238\n",
      "00000812_B.jpg\n"
     ]
    },
    {
     "name": "stderr",
     "output_type": "stream",
     "text": [
      "IOPub data rate exceeded.\n",
      "The notebook server will temporarily stop sending output\n",
      "to the client in order to avoid crashing it.\n",
      "To change this limit, set the config variable\n",
      "`--NotebookApp.iopub_data_rate_limit`.\n",
      "\n",
      "Current values:\n",
      "NotebookApp.iopub_data_rate_limit=1000000.0 (bytes/sec)\n",
      "NotebookApp.rate_limit_window=3.0 (secs)\n",
      "\n"
     ]
    },
    {
     "name": "stdout",
     "output_type": "stream",
     "text": [
      "1642 / 5238\n",
      "00000821_B.jpg\n"
     ]
    },
    {
     "name": "stderr",
     "output_type": "stream",
     "text": [
      "IOPub data rate exceeded.\n",
      "The notebook server will temporarily stop sending output\n",
      "to the client in order to avoid crashing it.\n",
      "To change this limit, set the config variable\n",
      "`--NotebookApp.iopub_data_rate_limit`.\n",
      "\n",
      "Current values:\n",
      "NotebookApp.iopub_data_rate_limit=1000000.0 (bytes/sec)\n",
      "NotebookApp.rate_limit_window=3.0 (secs)\n",
      "\n"
     ]
    },
    {
     "name": "stdout",
     "output_type": "stream",
     "text": [
      "3136 / 5238\n",
      "00001568_B.jpg\n"
     ]
    },
    {
     "name": "stderr",
     "output_type": "stream",
     "text": [
      "IOPub data rate exceeded.\n",
      "The notebook server will temporarily stop sending output\n",
      "to the client in order to avoid crashing it.\n",
      "To change this limit, set the config variable\n",
      "`--NotebookApp.iopub_data_rate_limit`.\n",
      "\n",
      "Current values:\n",
      "NotebookApp.iopub_data_rate_limit=1000000.0 (bytes/sec)\n",
      "NotebookApp.rate_limit_window=3.0 (secs)\n",
      "\n"
     ]
    }
   ],
   "source": [
    "for movie_file in movie_files:\n",
    "    movie_id = movie_file.split(\".\")[0]\n",
    "    src_sub_dir = os.path.join(src_dir, movie_id)\n",
    "    tgt_sub_dir = os.path.join(tgt_dir, movie_id)\n",
    "    if not os.path.exists(tgt_sub_dir):\n",
    "        os.makedirs(tgt_sub_dir)\n",
    "    json_path = os.path.join(json_dir, \"%s.json\" % movie_id)\n",
    "    with open(json_path, \"r\") as fr:\n",
    "        bblms = json.load(fr)\n",
    "        \n",
    "    src_paths = sorted(glob.glob(os.path.join(src_sub_dir, \"*.jpg\")))\n",
    "    for i, path in enumerate(src_paths):\n",
    "        print(\"%d / %d\" % (i+1, len(src_paths)))\n",
    "\n",
    "        img_name = os.path.basename(path)\n",
    "        img = utils.imread(path)\n",
    "        print(img_name)\n",
    "        print(bblms)\n",
    "        if img_name in bblms:\n",
    "            bb = bblms[img_name]['bb']\n",
    "            bb_rec = dlib.rectangle(bb[0], bb[1], bb[2], bb[3])\n",
    "            lms = bblms[img_name]['landmarks']\n",
    "            aligned_img = aligner.align(img=img, bb=bb_rec, landmarks=lms, size=size, indices=indices)\n",
    "            tgt_path = os.path.join(tgt_sub_dir, img_name)\n",
    "            utils.imwrite(tgt_path, aligned_img)\n",
    "\n",
    "utils.notify(\"@nogaken align_face done!!\")"
   ]
  },
  {
   "cell_type": "code",
   "execution_count": null,
   "metadata": {},
   "outputs": [],
   "source": []
  }
 ],
 "metadata": {
  "kernelspec": {
   "display_name": "Python 2",
   "language": "python",
   "name": "python2"
  },
  "language_info": {
   "codemirror_mode": {
    "name": "ipython",
    "version": 2
   },
   "file_extension": ".py",
   "mimetype": "text/x-python",
   "name": "python",
   "nbconvert_exporter": "python",
   "pygments_lexer": "ipython2",
   "version": "2.7.6"
  }
 },
 "nbformat": 4,
 "nbformat_minor": 2
}
