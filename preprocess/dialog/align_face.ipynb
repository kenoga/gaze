{
 "cells": [
  {
   "cell_type": "code",
   "execution_count": 1,
   "metadata": {},
   "outputs": [],
   "source": [
    "# -*- coding: utf-8 -*-\n",
    "import os, sys\n",
    "import json\n",
    "\n",
    "import glob\n",
    "sys.path.append(\"..\")\n",
    "sys.path.append(\"../..\")\n",
    "import dataset_utils.utils as utils\n",
    "import dataset_utils.config as config\n",
    "import cv2\n",
    "import dlib\n",
    "import openface\n",
    "\n",
    "from utils.FaceAligner import FaceAligner"
   ]
  },
  {
   "cell_type": "markdown",
   "metadata": {},
   "source": [
    "- 顔検出時に複数の結果が出たときに、サイズが最大のものを採用する\n",
    "- 位置を考慮したほうがいいが、後に回す"
   ]
  },
  {
   "cell_type": "code",
   "execution_count": 2,
   "metadata": {},
   "outputs": [],
   "source": [
    "size = 96\n",
    "indices = openface.AlignDlib.OUTER_EYES_AND_NOSE\n",
    "src_dir = os.path.join(config.DS_DIALOG, \"transformed_split\")\n",
    "tgt_dir = os.path.join(config.DS_DIALOG, \"aligned_face\")\n",
    "movie_files = [\"01_01.MP4\", \"01_02.MP4\", \"02_01.MP4\", \"02_02.MP4\", \"04_01.MP4\", \"04_02.MP4\", \"05_01.MP4\", \"05_02.MP4\", \"03_01.MP4\", \"03_02.MP4\"]\n",
    "\n",
    "json_dir = os.path.join(config.DS_DIALOG, \"face_bb_and_landmarks\")\n",
    "aligner = FaceAligner()"
   ]
  },
  {
   "cell_type": "code",
   "execution_count": 3,
   "metadata": {},
   "outputs": [],
   "source": [
    "def calc_bb_size(bb):\n",
    "    return (bb[2]-bb[0]) * (bb[3] * bb[1])\n",
    "\n",
    "def select_largest(bbs):\n",
    "    sizes = [calc_bb_size(bb['bb']) for bb in bbs]\n",
    "    max_i  = sizes.index(max(sizes))\n",
    "    return bbs[max_i]"
   ]
  },
  {
   "cell_type": "code",
   "execution_count": null,
   "metadata": {},
   "outputs": [
    {
     "name": "stdout",
     "output_type": "stream",
     "text": [
      "01_01.MP4\n"
     ]
    }
   ],
   "source": [
    "for movie_file in movie_files:\n",
    "    print(movie_file)\n",
    "    movie_id = movie_file.split(\".\")[0]\n",
    "    src_sub_dir = os.path.join(src_dir, movie_id)\n",
    "    tgt_sub_dir = os.path.join(tgt_dir, movie_id)\n",
    "    if not os.path.exists(tgt_sub_dir):\n",
    "        os.makedirs(tgt_sub_dir)\n",
    "    json_path = os.path.join(json_dir, \"%s.json\" % movie_id)\n",
    "    with open(json_path, \"r\") as fr:\n",
    "        bblms = json.load(fr)\n",
    "        \n",
    "    src_paths = sorted(glob.glob(os.path.join(src_sub_dir, \"*.png\")))\n",
    "    for i, path in enumerate(src_paths):\n",
    "        img_name = os.path.basename(path)\n",
    "        img = utils.imread(path)\n",
    "        if img_name in bblms and bblms[img_name]:\n",
    "            bblm = select_largest(bblms[img_name])\n",
    "            bb = bblm['bb']\n",
    "            bb_rec = dlib.rectangle(bb[0], bb[1], bb[2], bb[3])\n",
    "            lms = bblm['landmarks']\n",
    "            aligned_img = aligner.align(img=img, bb=bb_rec, landmarks=lms, size=size, indices=indices)\n",
    "            tgt_path = os.path.join(tgt_sub_dir, img_name)\n",
    "            utils.imwrite(tgt_path, aligned_img)\n",
    "    utils.notify(\"@nogaken align_face (%s) done!!\" % movie_id)\n",
    "\n",
    "utils.notify(\"@nogaken align_face done!!\")"
   ]
  },
  {
   "cell_type": "code",
   "execution_count": null,
   "metadata": {},
   "outputs": [],
   "source": []
  }
 ],
 "metadata": {
  "kernelspec": {
   "display_name": "Python 2",
   "language": "python",
   "name": "python2"
  },
  "language_info": {
   "codemirror_mode": {
    "name": "ipython",
    "version": 2
   },
   "file_extension": ".py",
   "mimetype": "text/x-python",
   "name": "python",
   "nbconvert_exporter": "python",
   "pygments_lexer": "ipython2",
   "version": "2.7.6"
  }
 },
 "nbformat": 4,
 "nbformat_minor": 2
}
