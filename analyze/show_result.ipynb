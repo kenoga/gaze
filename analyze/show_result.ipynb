{
 "cells": [
  {
   "cell_type": "code",
   "execution_count": 51,
   "metadata": {},
   "outputs": [],
   "source": [
    "import os\n",
    "import glob\n",
    "import json\n",
    "import numpy as np\n",
    "from sklearn.metrics import accuracy_score, precision_recall_fscore_support\n",
    "result_dir = \"../train/result/\"\n",
    "target = \"with_face_dir_feature/all.json\"\n",
    "with open(os.path.join(result_dir, target), \"r\") as fr:\n",
    "    result_all = json.load(fr)"
   ]
  },
  {
   "cell_type": "code",
   "execution_count": 78,
   "metadata": {},
   "outputs": [],
   "source": [
    "def analyze(result_dir, config_id):\n",
    "    print(\"-\" * 20 + \"{:^50}\".format(config_id) + \"-\" * 20)\n",
    "    with open(os.path.join(result_dir, config_id, \"all.json\"), \"r\") as fr:\n",
    "        result_all = json.load(fr)\n",
    "    \n",
    "    print(\"fscore of each test set\")\n",
    "    for id, result in sorted(result_all.items()):\n",
    "        print(\"%1d: %1.3f\" % (int(id), result['test']['fscore']))\n",
    "        \n",
    "    print(\"fscore of all\")\n",
    "    y_all = np.array([], np.int32)\n",
    "    t_all = np.array([], np.int32)\n",
    "    for id, result in sorted(result_all.items()):\n",
    "        y_all = np.hstack((y_all, np.array(result['test']['y'])))\n",
    "        t_all = np.hstack((t_all, np.array(result['test']['t'])))\n",
    "    fscore = precision_recall_fscore_support(t_all, y_all)[2]\n",
    "    print(fscore)\n",
    "    "
   ]
  },
  {
   "cell_type": "code",
   "execution_count": 79,
   "metadata": {},
   "outputs": [
    {
     "name": "stdout",
     "output_type": "stream",
     "text": [
      "--------------------              with_face_dir_feature               --------------------\n",
      "fscore of each test set\n",
      "1: 0.755\n",
      "2: 0.608\n",
      "3: 0.674\n",
      "4: 0.468\n",
      "5: 0.603\n",
      "6: 0.737\n",
      "fscore of all\n",
      "[0.85090809 0.6404064 ]\n",
      "--------------------            with_face_dir_feature_sgd             --------------------\n",
      "fscore of each test set\n",
      "1: 0.761\n",
      "2: 0.672\n",
      "3: 0.702\n",
      "4: 0.461\n",
      "5: 0.559\n",
      "6: 0.731\n",
      "fscore of all\n",
      "[0.84244328 0.64650463]\n"
     ]
    }
   ],
   "source": [
    "analyze(result_dir, \"with_face_dir_feature\")\n",
    "analyze(result_dir, \"with_face_dir_feature_sgd\")"
   ]
  },
  {
   "cell_type": "code",
   "execution_count": null,
   "metadata": {},
   "outputs": [],
   "source": []
  }
 ],
 "metadata": {
  "kernelspec": {
   "display_name": "Python 2",
   "language": "python",
   "name": "python2"
  },
  "language_info": {
   "codemirror_mode": {
    "name": "ipython",
    "version": 2
   },
   "file_extension": ".py",
   "mimetype": "text/x-python",
   "name": "python",
   "nbconvert_exporter": "python",
   "pygments_lexer": "ipython2",
   "version": "2.7.6"
  }
 },
 "nbformat": 4,
 "nbformat_minor": 2
}
