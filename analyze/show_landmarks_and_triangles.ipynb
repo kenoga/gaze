{
 "cells": [
  {
   "cell_type": "code",
   "execution_count": 1,
   "metadata": {},
   "outputs": [],
   "source": [
    "import os, sys\n",
    "import cv2\n",
    "import numpy as np\n",
    "import openface\n",
    "\n",
    "from openface.align_dlib import TEMPLATE\n",
    "\n",
    "module_path = os.path.abspath(\"../\")\n",
    "if module_path not in sys.path:\n",
    "    sys.path.append(module_path)\n",
    "\n",
    "from dataset_utils.utils import imshow\n",
    "from dataset_utils.utils import load_triangles "
   ]
  },
  {
   "cell_type": "code",
   "execution_count": 3,
   "metadata": {},
   "outputs": [
    {
     "name": "stdout",
     "output_type": "stream",
     "text": [
      "/root/gaze/dataset_utils/utils.py\n"
     ]
    },
    {
     "data": {
      "image/png": "[encoded data removed]",
      "text/plain": [
       "<IPython.core.display.Image object>"
      ]
     },
     "metadata": {},
     "output_type": "display_data"
    }
   ],
   "source": [
    "size= 256\n",
    "triangles = load_triangles()\n",
    "\n",
    "def scale(x):\n",
    "    return int(size * x)\n",
    "\n",
    "img = np.full((size, size), 255, np.int16)\n",
    "for x, y in TEMPLATE:\n",
    "    x = int(size * x)\n",
    "    y = int(size * y)\n",
    "    cv2.circle(img, (x, y), 1, (0, 0, 255), 1)\n",
    "    \n",
    "for tri in triangles:\n",
    "    for i in range(0,3):\n",
    "        for j in range(i+1, 3):\n",
    "            p1 = TEMPLATE[tri[i]]\n",
    "            p2 = TEMPLATE[tri[j]]\n",
    "            cv2.line(img, (scale(p1[0]), scale(p1[1])), (scale(p2[0]), scale(p2[1])), (0, 0, 0), thickness=1)\n",
    "imshow(img)"
   ]
  },
  {
   "cell_type": "code",
   "execution_count": null,
   "metadata": {},
   "outputs": [],
   "source": []
  }
 ],
 "metadata": {
  "kernelspec": {
   "display_name": "Python 2",
   "language": "python",
   "name": "python2"
  },
  "language_info": {
   "codemirror_mode": {
    "name": "ipython",
    "version": 2
   },
   "file_extension": ".py",
   "mimetype": "text/x-python",
   "name": "python",
   "nbconvert_exporter": "python",
   "pygments_lexer": "ipython2",
   "version": "2.7.6"
  }
 },
 "nbformat": 4,
 "nbformat_minor": 2
}
