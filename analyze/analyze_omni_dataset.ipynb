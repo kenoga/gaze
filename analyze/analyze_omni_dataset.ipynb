{
 "cells": [
  {
   "cell_type": "code",
   "execution_count": 112,
   "metadata": {},
   "outputs": [],
   "source": [
    "import os, sys\n",
    "import glob\n",
    "import json\n",
    "import random\n",
    "from collections import defaultdict\n",
    "import cv2\n",
    "import numpy as np\n",
    "\n",
    "%matplotlib inline\n",
    "import matplotlib\n",
    "import matplotlib.pyplot as plt\n",
    "\n",
    "module_path = os.path.abspath(os.path.join(\"..\"))\n",
    "sys.path.append(module_path)\n",
    "\n",
    "module_path = os.path.abspath(os.path.join(\"../..\"))\n",
    "sys.path.append(module_path)\n",
    "\n",
    "from dataset_utils.config import DS_ROOT, ROOT\n",
    "from dataset_utils.utils import imshow_by_path, imshow_by_name\n",
    "from dataset_utils.utils import get_image_paths, get_bb_and_landmarks_dict\n",
    "\n",
    "from dataset_utils.Dataset import Dataset\n",
    "from dataset_utils.utils import extract_eyes_region_from_aligned_face, gray, eqhist\n",
    "\n",
    "from dataset_utils.DataInitiator import OmniDataInitiator\n",
    "\n",
    "from train.utils.DataPathProvider import DataPathProvider"
   ]
  },
  {
   "cell_type": "code",
   "execution_count": 103,
   "metadata": {},
   "outputs": [],
   "source": [
    "def display_score(pids, scores, title=None):\n",
    "    assert len(pids) == len(scores)\n",
    "    N = len(pids)\n",
    "    width = 0.7\n",
    "    x = np.arange(N)\n",
    "    fig, ax = plt.subplots(figsize=(15, 5)) # Figureオブジェクトとそれに属する一つのAxesオブジェクトを同時に作成\n",
    "\n",
    "    rects = ax.bar(x, scores, width, color='g')\n",
    "    ax.set_xticks(x+width/2.)\n",
    "    ax.set_xticklabels(pids)\n",
    "    ax.set_yticks(np.arange(0, 1.1, 0.1))\n",
    "    ax.set_xlabel(\"person id\")\n",
    "    ax.set_ylabel(\"fscore\")\n",
    "    ax.set_title(title)\n",
    "\n",
    "    def attach_scores(rects):\n",
    "        # attach some text labels\n",
    "        for rect in rects:\n",
    "            height = rect.get_height()\n",
    "            ax.text(rect.get_x()+rect.get_width()/2., 1.05*height, '%.2f' % height,\n",
    "                    ha='center', va='bottom')\n",
    "\n",
    "    attach_scores(rects)\n",
    "    plt.show()"
   ]
  },
  {
   "cell_type": "markdown",
   "metadata": {},
   "source": [
    "# 顔画像検出の精度分析\n",
    "idが5の倍数のface_direction_featureをみればいい"
   ]
  },
  {
   "cell_type": "code",
   "execution_count": 106,
   "metadata": {},
   "outputs": [],
   "source": [
    "dic = get_bb_and_landmarks_dict()"
   ]
  },
  {
   "cell_type": "code",
   "execution_count": 107,
   "metadata": {},
   "outputs": [],
   "source": [
    "dsdir = os.path.join(DS_ROOT, \"image\")\n",
    "img_paths = glob.glob(os.path.join(dsdir, \"*\", \"*.jpg\"))\n",
    "data_initiator = OmniDataInitiator()\n",
    "data  = [data_initiator.init(os.path.basename(path)) for path in img_paths]\n",
    "data = [d for d in data if d.id % 5 == 0]\n",
    "\n",
    "pid2count = defaultdict(lambda: {True: [], False: []})\n",
    "\n",
    "for d in data:\n",
    "    spid = \"%04d\" % d.pid\n",
    "    if d.name not in dic[spid] or 'bb' not in dic[spid][d.name]:\n",
    "        pid2count[d.pid][False].append(d.name)\n",
    "    else:\n",
    "        pid2count[d.pid][True].append(d.name)"
   ]
  },
  {
   "cell_type": "code",
   "execution_count": 108,
   "metadata": {
    "scrolled": true
   },
   "outputs": [
    {
     "name": "stdout",
     "output_type": "stream",
     "text": [
      "pid: 1, 成功: 132, 失敗: 43, 精度: 0.754\n",
      "pid: 2, 成功: 1276, 失敗: 440, 精度: 0.744\n",
      "pid: 3, 成功: 639, 失敗: 343, 精度: 0.651\n",
      "pid: 4, 成功: 1223, 失敗: 257, 精度: 0.826\n",
      "pid: 5, 成功: 786, 失敗: 348, 精度: 0.693\n",
      "pid: 6, 成功: 726, 失敗: 183, 精度: 0.799\n",
      "pid: 7, 成功: 1098, 失敗: 180, 精度: 0.859\n",
      "pid: 8, 成功: 730, 失敗: 127, 精度: 0.852\n",
      "pid: 9, 成功: 893, 失敗: 220, 精度: 0.802\n",
      "pid: 10, 成功: 480, 失敗: 436, 精度: 0.524\n",
      "pid: 11, 成功: 966, 失敗: 202, 精度: 0.827\n",
      "pid: 12, 成功: 1529, 失敗: 385, 精度: 0.799\n",
      "pid: 13, 成功: 1092, 失敗: 288, 精度: 0.791\n",
      "pid: 14, 成功: 870, 失敗: 304, 精度: 0.741\n",
      "pid: 15, 成功: 977, 失敗: 187, 精度: 0.839\n",
      "pid: 16, 成功: 732, 失敗: 319, 精度: 0.696\n",
      "pid: 17, 成功: 795, 失敗: 244, 精度: 0.765\n",
      "成功: 14944, 失敗: 4506, 精度: 0.768\n"
     ]
    }
   ],
   "source": [
    "pids = []\n",
    "accuracy = []\n",
    "for pid in sorted(pid2count.keys()):\n",
    "    success = len(pid2count[pid][True])\n",
    "    failed = len(pid2count[pid][False])\n",
    "    pids.append(pid)\n",
    "    accuracy.append(float(success)/(success+failed))\n",
    "    print(\"pid: %d, 成功: %d, 失敗: %d, 精度: %.3f\" % (pid, success, failed, float(success)/(success+failed)))\n",
    "    \n",
    "tmp  = [(len(count[True]), len(count[False])) for pid, count in pid2count.items()]\n",
    "success = sum(e[0] for e in tmp)\n",
    "failed = sum(e[1] for e in tmp)\n",
    "print(\"成功: %d, 失敗: %d, 精度: %.3f\" % (success, failed, float(success)/(success+failed)))"
   ]
  },
  {
   "cell_type": "code",
   "execution_count": 114,
   "metadata": {},
   "outputs": [
    {
     "data": {
      "image/png": "[encoded data removed]",
      "text/plain": [
       "<matplotlib.figure.Figure at 0x7f9f90d84b10>"
      ]
     },
     "metadata": {},
     "output_type": "display_data"
    }
   ],
   "source": [
    "display_score(pids, accuracy, \"face detection accuracy\")"
   ]
  },
  {
   "cell_type": "markdown",
   "metadata": {},
   "source": [
    "# エラー検出されたデータ数の分析"
   ]
  },
  {
   "cell_type": "markdown",
   "metadata": {},
   "source": [
    "### pidごとのデータ数"
   ]
  },
  {
   "cell_type": "code",
   "execution_count": 86,
   "metadata": {},
   "outputs": [],
   "source": [
    "dsdir = os.path.join(DS_ROOT, \"face\")\n",
    "img_paths = glob.glob(os.path.join(dsdir, \"*\", \"*.jpg\"))\n",
    "data_initiator = OmniDataInitiator()\n",
    "data  = [data_initiator.init(os.path.basename(path)) for path in img_paths]\n",
    "data = [d for d in data if d.id % 5 == 0]\n",
    "\n",
    "pid2count = defaultdict(int)\n",
    "for d in data:\n",
    "    pid2count[d.pid] += 1"
   ]
  },
  {
   "cell_type": "code",
   "execution_count": 99,
   "metadata": {},
   "outputs": [],
   "source": [
    "error_path = os.path.join(DS_ROOT, \"predicted_noise_each_eye.json\")\n",
    "with open(error_path, \"r\") as fr:\n",
    "    errors = json.load(fr)\n",
    "data_initiator = OmniDataInitiator()\n",
    "error_data = [data_initiator.init(fname) for fname in errors.keys()]\n",
    "pid2error = defaultdict(int)\n",
    "for d in error_data:\n",
    "    pid2error[d.pid] += 1"
   ]
  },
  {
   "cell_type": "code",
   "execution_count": 102,
   "metadata": {},
   "outputs": [
    {
     "name": "stdout",
     "output_type": "stream",
     "text": [
      "pid: 1, 検出数: 92, データ数: 132, 検出割合: 0.697\n",
      "pid: 2, 検出数: 330, データ数: 1276, 検出割合: 0.259\n",
      "pid: 3, 検出数: 143, データ数: 639, 検出割合: 0.224\n",
      "pid: 4, 検出数: 575, データ数: 1223, 検出割合: 0.470\n",
      "pid: 5, 検出数: 104, データ数: 967, 検出割合: 0.108\n",
      "pid: 6, 検出数: 177, データ数: 726, 検出割合: 0.244\n",
      "pid: 7, 検出数: 164, データ数: 1098, 検出割合: 0.149\n",
      "pid: 8, 検出数: 118, データ数: 730, 検出割合: 0.162\n",
      "pid: 9, 検出数: 146, データ数: 893, 検出割合: 0.163\n",
      "pid: 10, 検出数: 296, データ数: 480, 検出割合: 0.617\n",
      "pid: 11, 検出数: 402, データ数: 966, 検出割合: 0.416\n",
      "pid: 12, 検出数: 306, データ数: 1529, 検出割合: 0.200\n",
      "pid: 13, 検出数: 100, データ数: 1092, 検出割合: 0.092\n",
      "pid: 14, 検出数: 291, データ数: 870, 検出割合: 0.334\n",
      "pid: 15, 検出数: 136, データ数: 977, 検出割合: 0.139\n",
      "pid: 16, 検出数: 364, データ数: 732, 検出割合: 0.497\n",
      "pid: 17, 検出数: 181, データ数: 795, 検出割合: 0.228\n",
      "検出合計: 3925, データ合計: 15125, 検出割合: 0.260\n"
     ]
    }
   ],
   "source": [
    "for pid in sorted(pid2count.keys()):\n",
    "    print(\"pid: %d, 検出数: %d, データ数: %d, 検出割合: %.3f\" % (pid, pid2error[pid], pid2count[pid], float(pid2error[pid])/pid2count[pid]))\n",
    "print(\"検出合計: %d, データ合計: %d, 検出割合: %.3f\" % (sum(pid2error.values()), sum(pid2count.values()), float(sum(pid2error.values()))/sum(pid2count.values())))"
   ]
  },
  {
   "cell_type": "code",
   "execution_count": 11,
   "metadata": {},
   "outputs": [
    {
     "name": "stdout",
     "output_type": "stream",
     "text": [
      "------------------------- conf -------------------------\n",
      "annotation_path => False\n",
      "batch_size => 64\n",
      "blink_noise_path => ../data/omni/blink.json\n",
      "block_size => 512\n",
      "bulking => True\n",
      "conf_id => decrease_noise\n",
      "data_initiator => OmniDataInitiator\n",
      "dataset_path => ../data/omni/both_eyes_from_aligned_face2\n",
      "epoch => 10\n",
      "face_direction_path => False\n",
      "glasses => False\n",
      "group_num => 17\n",
      "ignored_targets => [3, 4, 5, 6]\n",
      "img_format => jpg\n",
      "img_size => [32, 96]\n",
      "learn_rate => 0.01\n",
      "locked_targets => [0, 1, 2, 31, 32, 50]\n",
      "model_path => ./trained\n",
      "noise_data_paths => [u'../data/omni/noise_data.json', u'../data/omni/predicted_noise_each_eye.json', u'../data/omni/invalid.json']\n",
      "nonlocked_rate => False\n",
      "pids => [1, 2, 3, 4, 5, 6, 7, 8, 9, 10, 11, 12, 13, 14, 15, 16, 17]\n",
      "places => [u'A', u'B', u'C', u'D']\n",
      "result_path => ./result\n",
      "skip_num => 4\n",
      "pid 1-> 13\n",
      "pid 2-> 713\n",
      "pid 3-> 382\n",
      "pid 4-> 489\n",
      "pid 5-> 268\n",
      "pid 6-> 434\n",
      "pid 7-> 357\n",
      "pid 8-> 241\n",
      "pid 9-> 239\n",
      "pid 10-> 126\n",
      "pid 11-> 446\n",
      "pid 12-> 489\n",
      "pid 13-> 335\n",
      "pid 14-> 463\n",
      "pid 15-> 248\n",
      "pid 16-> 51\n",
      "pid 17-> 470\n"
     ]
    }
   ],
   "source": [
    "conf_id = \"decrease_noise\"\n",
    "conf_path = os.path.join(ROOT, \"train\", \"init.json\")\n",
    "\n",
    "def load_conf(conf_fpath, conf_id, conf=None):\n",
    "    assert os.path.exists(conf_fpath)\n",
    "    \n",
    "    if conf is None:\n",
    "        conf = defaultdict(lambda: None)\n",
    "        \n",
    "    with open(conf_fpath, 'r') as fr:\n",
    "        conf_raw = json.load(fr)[conf_id]\n",
    "    \n",
    "    for key in conf_raw.keys():\n",
    "        conf[key] = conf_raw[key]\n",
    "    \n",
    "    return conf\n",
    "\n",
    "def report_conf(conf):\n",
    "    print(' '.join(['-' * 25, 'conf', '-' * 25]))\n",
    "    for key, value in sorted(conf.items()):\n",
    "        print('%s => %s' % (key, value))\n",
    "\n",
    "conf_def = load_conf(conf_path, 'default')\n",
    "conf = load_conf(conf_path, conf_id, conf=conf_def)\n",
    "conf['conf_id'] = conf_id\n",
    "report_conf(conf)\n",
    "\n",
    "face_dir_dict = None\n",
    "if conf['face_direction_dir']:\n",
    "    face_dir_dict = {}\n",
    "    dir_path = conf['face_direction_dir']\n",
    "    json_fnames = [fname for fname in os.listdir(dir_path) if 'json' in fname]\n",
    "    for json_fname in json_fnames:\n",
    "        path = os.path.join(dir_path, json_fname)\n",
    "        with open(path, 'r') as fr:\n",
    "            d = json.load(fr)\n",
    "            for k, v in d.items():\n",
    "                face_dir_dict[k] = v\n",
    "    \n",
    "path_provider = DataPathProvider(conf)\n"
   ]
  },
  {
   "cell_type": "code",
   "execution_count": 13,
   "metadata": {},
   "outputs": [
    {
     "name": "stdout",
     "output_type": "stream",
     "text": [
      "5781\n"
     ]
    }
   ],
   "source": [
    "print(len(path_provider.dataset.data))"
   ]
  },
  {
   "cell_type": "code",
   "execution_count": null,
   "metadata": {},
   "outputs": [],
   "source": [
    "path_provider.save_datset(\"./dataset_summer1.pkl\")"
   ]
  }
 ],
 "metadata": {
  "kernelspec": {
   "display_name": "Python 2",
   "language": "python",
   "name": "python2"
  },
  "language_info": {
   "codemirror_mode": {
    "name": "ipython",
    "version": 2
   },
   "file_extension": ".py",
   "mimetype": "text/x-python",
   "name": "python",
   "nbconvert_exporter": "python",
   "pygments_lexer": "ipython2",
   "version": "2.7.6"
  }
 },
 "nbformat": 4,
 "nbformat_minor": 2
}
