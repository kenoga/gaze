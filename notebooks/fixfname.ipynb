{
 "cells": [
  {
   "cell_type": "code",
   "execution_count": 2,
   "metadata": {},
   "outputs": [],
   "source": [
    "import os\n",
    "import shutil"
   ]
  },
  {
   "cell_type": "code",
   "execution_count": 5,
   "metadata": {},
   "outputs": [],
   "source": [
    "root_dir = \"./data/kobas-omni-eyecontact/\"\n",
    "subdirs = [\"movie\", \"image\", \"transformed_image\", \"face_image\"]\n",
    "\n",
    "for subdir in subdirs:\n",
    "    old_dir = os.path.join(root_dir, subdir, \"0017\")\n",
    "    new_dir = os.path.join(root_dir, subdir, \"0017\")\n",
    "    \n",
    "    if not os.path.exists(old_dir):\n",
    "        raise Exception(\"%s does not exists\" % old_dir)\n",
    "    \n",
    "    target_fnames = [d for d in os.listdir(old_dir) if d.split(\"_\")[2] in {\"B\", \"C\"}]\n",
    "    \n",
    "    for tf in target_fnames:\n",
    "        new_tf = tf.replace(\"0012\", \"0017\")\n",
    "        old_path = os.path.join(old_dir, tf)\n",
    "        new_path = os.path.join(new_dir, new_tf)\n",
    "        shutil.move(old_path, new_path)\n",
    "    \n",
    "    \n",
    "    "
   ]
  },
  {
   "cell_type": "code",
   "execution_count": null,
   "metadata": {},
   "outputs": [],
   "source": []
  }
 ],
 "metadata": {
  "kernelspec": {
   "display_name": "Python 2",
   "language": "python",
   "name": "python2"
  },
  "language_info": {
   "codemirror_mode": {
    "name": "ipython",
    "version": 2
   },
   "file_extension": ".py",
   "mimetype": "text/x-python",
   "name": "python",
   "nbconvert_exporter": "python",
   "pygments_lexer": "ipython2",
   "version": "2.7.6"
  }
 },
 "nbformat": 4,
 "nbformat_minor": 2
}
