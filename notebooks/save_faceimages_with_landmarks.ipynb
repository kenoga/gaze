{
 "cells": [
  {
   "cell_type": "code",
   "execution_count": 8,
   "metadata": {},
   "outputs": [],
   "source": [
    "import os\n",
    "import glob\n",
    "import dataset_utils\n",
    "import json\n",
    "import cv2"
   ]
  },
  {
   "cell_type": "code",
   "execution_count": 13,
   "metadata": {},
   "outputs": [],
   "source": [
    "IMG_DIR = os.path.join(dataset_utils.DS_ROOT_DIR, 'transformed_image')\n",
    "FACE_DIR = os.path.join(dataset_utils.DS_ROOT_DIR, 'face_image')\n",
    "DST_DIR = os.path.join(dataset_utils.DS_ROOT_DIR, 'face_image_with_lds')\n",
    "subdirs = dataset_utils.get_subdirs()\n",
    "if not os.path.exists(DST_DIR):\n",
    "    os.mkdir(DST_DIR)"
   ]
  },
  {
   "cell_type": "code",
   "execution_count": 14,
   "metadata": {},
   "outputs": [
    {
     "name": "stdout",
     "output_type": "stream",
     "text": [
      "0001\n",
      "0002\n",
      "0003\n",
      "0004\n",
      "0005\n",
      "0006\n",
      "0007\n",
      "0008\n",
      "0009\n",
      "0010\n",
      "0011\n",
      "0012\n",
      "0013\n",
      "0014\n",
      "0015\n",
      "0016\n",
      "0017\n"
     ]
    }
   ],
   "source": [
    "for subdir in subdirs:\n",
    "    print(subdir)\n",
    "    if not os.path.exists(os.path.join(DST_DIR, subdir)):\n",
    "        os.mkdir(os.path.join(DST_DIR, subdir))\n",
    "    json_path = os.path.join(FACE_DIR, subdir, 'face_position_and_landmarks.json')\n",
    "    if not os.path.exists(json_path):\n",
    "        continue\n",
    "    with open(json_path, 'r') as fr:\n",
    "        img2lms = json.load(fr)\n",
    "    inames = glob.glob(os.path.join(FACE_DIR, subdir, \"*.jpg\"))\n",
    "    for iname in inames:\n",
    "        iname = os.path.basename(iname)\n",
    "        if iname in img2lms and img2lms[iname]['detected']:\n",
    "            lms = img2lms[iname]['lanmarks']\n",
    "            img = cv2.imread(os.path.join(IMG_DIR, subdir, iname))\n",
    "            for lm in lms:\n",
    "                cv2.circle(img, (lm[0], lm[1]), 3, (0, 0, 255), 1)\n",
    "            \n",
    "            cv2.imwrite(os.path.join(DST_DIR, subdir, iname), img)\n"
   ]
  },
  {
   "cell_type": "code",
   "execution_count": null,
   "metadata": {},
   "outputs": [],
   "source": []
  }
 ],
 "metadata": {
  "kernelspec": {
   "display_name": "Python 2",
   "language": "python",
   "name": "python2"
  },
  "language_info": {
   "codemirror_mode": {
    "name": "ipython",
    "version": 2
   },
   "file_extension": ".py",
   "mimetype": "text/x-python",
   "name": "python",
   "nbconvert_exporter": "python",
   "pygments_lexer": "ipython2",
   "version": "2.7.6"
  }
 },
 "nbformat": 4,
 "nbformat_minor": 2
}
