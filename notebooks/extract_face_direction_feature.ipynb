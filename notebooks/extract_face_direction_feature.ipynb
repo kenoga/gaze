{
 "cells": [
  {
   "cell_type": "code",
   "execution_count": 1,
   "metadata": {},
   "outputs": [],
   "source": [
    "import cv2\n",
    "import cv2.cv\n",
    "from PIL import ImageOps, Image, ImageDraw\n",
    "import os, sys, math\n",
    "import json\n",
    "import numpy as np\n",
    "import openface\n",
    "\n",
    "module_path = os.path.abspath(os.path.join('..'))\n",
    "if module_path not in sys.path:\n",
    "    sys.path.append(module_path)\n",
    "from utils import dataset_utils"
   ]
  },
  {
   "cell_type": "code",
   "execution_count": 2,
   "metadata": {},
   "outputs": [],
   "source": [
    "# paths = dataset_utils.get_image_paths(\"transformed\")\n",
    "lm_dict = dataset_utils.get_bb_and_landmarks_dict()"
   ]
  },
  {
   "cell_type": "code",
   "execution_count": null,
   "metadata": {},
   "outputs": [
    {
     "name": "stdout",
     "output_type": "stream",
     "text": [
      "501364 / 867425"
     ]
    }
   ],
   "source": [
    "dir_name = \"face_direction_feature\"\n",
    "img_size = 255\n",
    "src_dir = os.path.join(dataset_utils.DS_ROOT_DIR, dir_name)\n",
    "aligner = dataset_utils.FaceAligner()\n",
    "num = sum([len(lm_dict[key]) for key in lm_dict.keys()])\n",
    "count = 0\n",
    "for pid in sorted(lm_dict.keys()):\n",
    "    result = {}\n",
    "    if not os.path.exists(src_dir):\n",
    "        os.makedirs(src_dir)\n",
    "    for fname in sorted(lm_dict[pid].keys()):\n",
    "        count += 1\n",
    "        \n",
    "        if not lm_dict[pid][fname]['detected']:\n",
    "            continue\n",
    "        sys.stdout.write('\\r'+\"%d / %d\" % (count, num))\n",
    "        landmarks = lm_dict[pid][fname]['landmarks']\n",
    "        feature = aligner.get_landmarks_after_align(landmarks, img_size)\n",
    "        result[fname] = feature\n",
    "    with open(os.path.join(src_dir, \"%s.json\" % pid), \"w\") as fr:\n",
    "        json.dump(result, fr)"
   ]
  },
  {
   "cell_type": "code",
   "execution_count": null,
   "metadata": {},
   "outputs": [],
   "source": [
    "img_size = 255\n",
    "pid = '0001'\n",
    "name = '0001_0_A_04_00000177.jpg'\n",
    "lm = lm_dict[pid][name]['landmarks']\n"
   ]
  },
  {
   "cell_type": "code",
   "execution_count": null,
   "metadata": {},
   "outputs": [],
   "source": [
    "indices = np.array([39, 42, 57])\n",
    "lms = np.float32(lm)\n",
    "H = cv2.getAffineTransform(lms[indices], img_size * openface.align_dlib.MINMAX_TEMPLATE[indices])"
   ]
  },
  {
   "cell_type": "code",
   "execution_count": null,
   "metadata": {},
   "outputs": [],
   "source": [
    "aligner = dataset_utils.FaceAligner()"
   ]
  },
  {
   "cell_type": "code",
   "execution_count": null,
   "metadata": {},
   "outputs": [],
   "source": [
    "after = aligner.get_landmarks_after_align(lm, img_size)"
   ]
  },
  {
   "cell_type": "code",
   "execution_count": null,
   "metadata": {},
   "outputs": [],
   "source": []
  }
 ],
 "metadata": {
  "kernelspec": {
   "display_name": "Python 2",
   "language": "python",
   "name": "python2"
  },
  "language_info": {
   "codemirror_mode": {
    "name": "ipython",
    "version": 2
   },
   "file_extension": ".py",
   "mimetype": "text/x-python",
   "name": "python",
   "nbconvert_exporter": "python",
   "pygments_lexer": "ipython2",
   "version": "2.7.6"
  }
 },
 "nbformat": 4,
 "nbformat_minor": 2
}
