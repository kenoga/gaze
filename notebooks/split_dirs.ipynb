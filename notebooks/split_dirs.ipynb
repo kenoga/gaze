{
 "cells": [
  {
   "cell_type": "markdown",
   "metadata": {},
   "source": [
    "# ファイル数が多すぎて一度に閲覧するのが手間なので，人ごとにディレクトリ分けされている画像データ集合をさらに，視線ターゲットで分割する"
   ]
  },
  {
   "cell_type": "code",
   "execution_count": 10,
   "metadata": {},
   "outputs": [],
   "source": [
    "import os\n",
    "import glob\n",
    "import shutil"
   ]
  },
  {
   "cell_type": "code",
   "execution_count": 9,
   "metadata": {},
   "outputs": [],
   "source": [
    "def copy_and_split_dir(src_root_dir, dst_root_dir):\n",
    "    if not os.path.exists(src_root_dir):\n",
    "        raise RunTimeError(\"The source directory doesn't exist.\")\n",
    "    if not os.path.exists(dst_root_dir):\n",
    "        os.mkdir(dst_root_dir)\n",
    "        \n",
    "    sub_dirs = sorted([sd for sd in os.listdir(src_root_dir) if sd[0] != '.'])    \n",
    "\n",
    "    for sd in sub_dirs:\n",
    "        src_dir = os.path.join(src_root_dir, sd)\n",
    "        dst_dir = os.path.join(dst_root_dir, sd)\n",
    "        if not os.path.exists(dst_dir):\n",
    "            os.mkdir(dst_dir)\n",
    "\n",
    "        inames = glob.glob(os.path.join(src_dir, \"*.jpg\"))\n",
    "        for iname in inames:\n",
    "            iname = os.path.basename(iname)\n",
    "            target = iname.split(\"_\")[3]\n",
    "            target_dir = os.path.join(dst_dir, target)\n",
    "            if not os.path.exists(target_dir):\n",
    "                os.mkdir(target_dir)\n",
    "            shutil.copy2(os.path.join(src_dir, iname), os.path.join(target_dir, iname))\n"
   ]
  },
  {
   "cell_type": "code",
   "execution_count": 42,
   "metadata": {},
   "outputs": [],
   "source": [
    "src_root_dir = \"./data/kobas-omni-eyecontact/both_eyes/\"\n",
    "dst_root_dir = \"./data/kobas-omni-eyecontact/both_eyes_split\"\n",
    "copy_and_split_dir(src_root_dir, dst_root_dir)"
   ]
  },
  {
   "cell_type": "code",
   "execution_count": 41,
   "metadata": {},
   "outputs": [],
   "source": [
    "src_root_dir = \"./data/kobas-omni-eyecontact/face_image/\"\n",
    "dst_root_dir = \"./data/kobas-omni-eyecontact/face_image_split\"\n",
    "copy_and_split_dir(src_root_dir, dst_root_dir)"
   ]
  },
  {
   "cell_type": "code",
   "execution_count": 3,
   "metadata": {},
   "outputs": [],
   "source": [
    "src_root_dir = \"./data/kobas-omni-eyecontact/face_image_with_lds/\"\n",
    "dst_root_dir = \"./data/kobas-omni-eyecontact/face_image_with_lds_split/\"\n",
    "copy_and_split_dir(src_root_dir, dst_root_dir)"
   ]
  },
  {
   "cell_type": "code",
   "execution_count": 3,
   "metadata": {},
   "outputs": [],
   "source": [
    "src_root_dir = \"../data/kobas-omni-eyecontact/aligned_face/\"\n",
    "dst_root_dir = \"../data/kobas-omni-eyecontact/aligned_face_split/\"\n",
    "copy_and_split_dir(src_root_dir, dst_root_dir)"
   ]
  },
  {
   "cell_type": "code",
   "execution_count": 6,
   "metadata": {},
   "outputs": [],
   "source": [
    "src_root_dir = \"../data/kobas-omni-eyecontact/both_eyes_from_aligned_face/\"\n",
    "dst_root_dir = \"../data/kobas-omni-eyecontact/both_eyes_from_aligned_face_split/\"\n",
    "copy_and_split_dir(src_root_dir, dst_root_dir)"
   ]
  },
  {
   "cell_type": "code",
   "execution_count": 7,
   "metadata": {},
   "outputs": [],
   "source": [
    "src_root_dir = \"../data/kobas-omni-eyecontact/transformed_image/\"\n",
    "dst_root_dir = \"../data/kobas-omni-eyecontact/transformed_image_split/\"\n",
    "copy_and_split_dir(src_root_dir, dst_root_dir)"
   ]
  },
  {
   "cell_type": "code",
   "execution_count": 11,
   "metadata": {},
   "outputs": [],
   "source": [
    "src_root_dir = \"../data/kobas-omni-eyecontact/image/\"\n",
    "dst_root_dir = \"../data/kobas-omni-eyecontact/image_split/\"\n",
    "copy_and_split_dir(src_root_dir, dst_root_dir)"
   ]
  },
  {
   "cell_type": "code",
   "execution_count": null,
   "metadata": {},
   "outputs": [],
   "source": []
  }
 ],
 "metadata": {
  "kernelspec": {
   "display_name": "Python 2",
   "language": "python",
   "name": "python2"
  },
  "language_info": {
   "codemirror_mode": {
    "name": "ipython",
    "version": 2
   },
   "file_extension": ".py",
   "mimetype": "text/x-python",
   "name": "python",
   "nbconvert_exporter": "python",
   "pygments_lexer": "ipython2",
   "version": "2.7.6"
  }
 },
 "nbformat": 4,
 "nbformat_minor": 2
}
