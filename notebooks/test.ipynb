{
 "cells": [
  {
   "cell_type": "code",
   "execution_count": 20,
   "metadata": {},
   "outputs": [],
   "source": [
    "import cv2\n",
    "import cv2.cv\n",
    "from PIL import ImageOps, Image\n",
    "import os, sys, math\n",
    "import json\n",
    "import numpy as np\n",
    "\n",
    "module_path = os.path.abspath(os.path.join('..'))\n",
    "if module_path not in sys.path:\n",
    "    sys.path.append(module_path)\n",
    "from utils import dataset_utils"
   ]
  },
  {
   "cell_type": "code",
   "execution_count": 53,
   "metadata": {},
   "outputs": [
    {
     "name": "stdout",
     "output_type": "stream",
     "text": [
      "/root/gaze/data/kobas-omni-eyecontact/image/0001/0001_0_A_05_00000095.jpg\n"
     ]
    }
   ],
   "source": [
    "paths = dataset_utils.get_image_paths(\"image\")\n",
    "print(paths['0001'][0])\n",
    "img = cv2.imread(paths['0001'][0])\n",
    "\n",
    "img2_path = os.path.join(dataset_utils.DS_ROOT_DIR, 'image', '0009', '0009_1_D_07_00000119.jpg')\n",
    "img2 = cv2.imread(img2_path)"
   ]
  },
  {
   "cell_type": "code",
   "execution_count": 4,
   "metadata": {},
   "outputs": [],
   "source": [
    "transformer = dataset_utils.PolarTransformer(img.shape[0], img.shape[1])"
   ]
  },
  {
   "cell_type": "code",
   "execution_count": 58,
   "metadata": {},
   "outputs": [
    {
     "data": {
      "text/plain": [
       "True"
      ]
     },
     "execution_count": 58,
     "metadata": {},
     "output_type": "execute_result"
    }
   ],
   "source": [
    "cv2.imwrite('./true.jpg', transformer.transform(img2, 0.5, 1, 0.5, 0.75, interpolation=True))\n",
    "cv2.imwrite('./false.jpg', transformer.transform(img2, 0.5, 1, 0.5, 0.75, interpolation=False))"
   ]
  },
  {
   "cell_type": "code",
   "execution_count": 60,
   "metadata": {},
   "outputs": [
    {
     "data": {
      "text/plain": [
       "True"
      ]
     },
     "execution_count": 60,
     "metadata": {},
     "output_type": "execute_result"
    }
   ],
   "source": [
    "true_img = transformer.transform(img, 0.5, 1, 0.75, 1, interpolation=True)\n",
    "false_img = transformer.transform(img, 0.5, 1, 0.75, 1, interpolation=False)\n",
    "cv2.imwrite('./true_mika.jpg', true_img)\n",
    "cv2.imwrite('./false_mika.jpg', false_img)"
   ]
  },
  {
   "cell_type": "code",
   "execution_count": null,
   "metadata": {},
   "outputs": [],
   "source": [
    "dataset_utils.imshow(true_img)\n",
    "dataset_utils.imshow(false_img)"
   ]
  },
  {
   "cell_type": "code",
   "execution_count": null,
   "metadata": {},
   "outputs": [],
   "source": [
    "polar_map = create_polar_map(w_dst, h_dst)"
   ]
  },
  {
   "cell_type": "code",
   "execution_count": 38,
   "metadata": {},
   "outputs": [
    {
     "ename": "TypeError",
     "evalue": "map1 is not a numpy array, neither a scalar",
     "output_type": "error",
     "traceback": [
      "\u001b[0;31m---------------------------------------------------------------------------\u001b[0m",
      "\u001b[0;31mTypeError\u001b[0m                                 Traceback (most recent call last)",
      "\u001b[0;32m<ipython-input-38-5611c04dc558>\u001b[0m in \u001b[0;36m<module>\u001b[0;34m()\u001b[0m\n\u001b[1;32m     25\u001b[0m \u001b[0;34m\u001b[0m\u001b[0m\n\u001b[1;32m     26\u001b[0m \u001b[0mdst\u001b[0m \u001b[0;34m=\u001b[0m \u001b[0mnp\u001b[0m\u001b[0;34m.\u001b[0m\u001b[0mzeros\u001b[0m\u001b[0;34m(\u001b[0m\u001b[0;34m(\u001b[0m\u001b[0mimg\u001b[0m\u001b[0;34m.\u001b[0m\u001b[0mshape\u001b[0m\u001b[0;34m[\u001b[0m\u001b[0;36m0\u001b[0m\u001b[0;34m]\u001b[0m\u001b[0;34m//\u001b[0m\u001b[0;36m2\u001b[0m\u001b[0;34m,\u001b[0m \u001b[0mimg\u001b[0m\u001b[0;34m.\u001b[0m\u001b[0mshape\u001b[0m\u001b[0;34m[\u001b[0m\u001b[0;36m1\u001b[0m\u001b[0;34m]\u001b[0m\u001b[0;34m*\u001b[0m\u001b[0;36m2\u001b[0m\u001b[0;34m)\u001b[0m\u001b[0;34m,\u001b[0m \u001b[0mnp\u001b[0m\u001b[0;34m.\u001b[0m\u001b[0muint8\u001b[0m\u001b[0;34m)\u001b[0m\u001b[0;34m\u001b[0m\u001b[0m\n\u001b[0;32m---> 27\u001b[0;31m \u001b[0mcv2\u001b[0m\u001b[0;34m.\u001b[0m\u001b[0mremap\u001b[0m\u001b[0;34m(\u001b[0m\u001b[0mimg\u001b[0m\u001b[0;34m,\u001b[0m \u001b[0mmapx\u001b[0m\u001b[0;34m,\u001b[0m \u001b[0mmapy\u001b[0m\u001b[0;34m,\u001b[0m \u001b[0minterpolation\u001b[0m\u001b[0;34m=\u001b[0m\u001b[0mcv2\u001b[0m\u001b[0;34m.\u001b[0m\u001b[0mcv\u001b[0m\u001b[0;34m.\u001b[0m\u001b[0mCV_INTER_LINEAR\u001b[0m\u001b[0;34m)\u001b[0m\u001b[0;34m\u001b[0m\u001b[0m\n\u001b[0m",
      "\u001b[0;31mTypeError\u001b[0m: map1 is not a numpy array, neither a scalar"
     ]
    }
   ],
   "source": [
    "def create_polar_map(w_dst, h_dst):\n",
    "    polar_map = [[0 for i in range(w_dst)] for j in range(h_dst)]\n",
    "\n",
    "    for h_px in range(h_dst):\n",
    "        r = h_px\n",
    "        for w_px in range(w_dst):\n",
    "            t = 2 * math.pi * (float(w_px + 1) / w_dst)\n",
    "            x = r * math.cos(t)\n",
    "            y = -r * math.sin(t)\n",
    "            polar_map[h_px][w_px] = (int(y), int(x))\n",
    "    return polar_map\n",
    "w_dst = img.shape[1]*2\n",
    "h_dst = img.shape[0]//2\n",
    "x_center = img.shape[0] // 2\n",
    "y_center = img.shape[0] // 2\n",
    "\n",
    "\n",
    "def mapy(dst_x, dst_y, polar_map=polar_map, x_center=x_center, y_center=y_center):\n",
    "    src_y, src_x = polar_map[dst_y][dst_x]\n",
    "    return int(src_y + y_center)\n",
    "\n",
    "def mapx(dst_x, dst_y, polar_map=polar_map, x_center=x_center, y_center=y_center):\n",
    "    src_y, src_x = polar_map[dst_y][dst_x]\n",
    "    return int(src_x + x_center)\n",
    "\n",
    "dst = np.zeros((img.shape[0]//2, img.shape[1]*2), np.uint8)\n",
    "cv2.remap(img, mapx, mapy, interpolation=cv2.cv.CV_INTER_LINEAR)"
   ]
  },
  {
   "cell_type": "code",
   "execution_count": 47,
   "metadata": {},
   "outputs": [
    {
     "ename": "AttributeError",
     "evalue": "'module' object has no attribute 'logPolar'",
     "output_type": "error",
     "traceback": [
      "\u001b[0;31m---------------------------------------------------------------------------\u001b[0m",
      "\u001b[0;31mAttributeError\u001b[0m                            Traceback (most recent call last)",
      "\u001b[0;32m<ipython-input-47-8de4b9473cbc>\u001b[0m in \u001b[0;36m<module>\u001b[0;34m()\u001b[0m\n\u001b[0;32m----> 1\u001b[0;31m \u001b[0mcv2\u001b[0m\u001b[0;34m.\u001b[0m\u001b[0mlogPolar\u001b[0m\u001b[0;34m\u001b[0m\u001b[0m\n\u001b[0m",
      "\u001b[0;31mAttributeError\u001b[0m: 'module' object has no attribute 'logPolar'"
     ]
    }
   ],
   "source": []
  },
  {
   "cell_type": "code",
   "execution_count": null,
   "metadata": {},
   "outputs": [],
   "source": []
  }
 ],
 "metadata": {
  "kernelspec": {
   "display_name": "Python 2",
   "language": "python",
   "name": "python2"
  },
  "language_info": {
   "codemirror_mode": {
    "name": "ipython",
    "version": 2
   },
   "file_extension": ".py",
   "mimetype": "text/x-python",
   "name": "python",
   "nbconvert_exporter": "python",
   "pygments_lexer": "ipython2",
   "version": "2.7.6"
  }
 },
 "nbformat": 4,
 "nbformat_minor": 2
}
