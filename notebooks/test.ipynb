{
 "cells": [
  {
   "cell_type": "code",
   "execution_count": 24,
   "metadata": {},
   "outputs": [],
   "source": [
    "import cv2\n",
    "import cv2.cv\n",
    "from PIL import ImageOps, Image, ImageDraw\n",
    "import os, sys, math\n",
    "import json\n",
    "import numpy as np\n",
    "import openface\n",
    "\n",
    "module_path = os.path.abspath(os.path.join('..'))\n",
    "if module_path not in sys.path:\n",
    "    sys.path.append(module_path)\n",
    "from utils import dataset_utils"
   ]
  },
  {
   "cell_type": "code",
   "execution_count": 15,
   "metadata": {},
   "outputs": [
    {
     "name": "stdout",
     "output_type": "stream",
     "text": [
      "[[0.         0.17856914]\n",
      " [0.00412831 0.31259227]\n",
      " [0.0196793  0.44770938]\n",
      " [0.04809872 0.5800727 ]\n",
      " [0.10028344 0.70349526]\n",
      " [0.17999782 0.81208664]\n",
      " [0.27627307 0.90467805]\n",
      " [0.38463727 0.98006284]\n",
      " [0.5073561  1.        ]\n",
      " [0.63014114 0.9761118 ]\n",
      " [0.7386777  0.89921385]\n",
      " [0.8354747  0.80513287]\n",
      " [0.91434467 0.6945623 ]\n",
      " [0.9643504  0.56826204]\n",
      " [0.9887058  0.432444  ]\n",
      " [0.9993123  0.29529294]\n",
      " [1.         0.15909716]\n",
      " [0.09485531 0.07603313]\n",
      " [0.15534875 0.02492465]\n",
      " [0.2377474  0.01139098]\n",
      " [0.32313403 0.02415778]\n",
      " [0.4036699  0.05780071]\n",
      " [0.56864655 0.0521157 ]\n",
      " [0.65128165 0.01543965]\n",
      " [0.7379608  0.        ]\n",
      " [0.82290924 0.01191543]\n",
      " [0.88739765 0.06025707]\n",
      " [0.48893312 0.15513189]\n",
      " [0.48991537 0.24343018]\n",
      " [0.49092147 0.33176517]\n",
      " [0.49209353 0.422107  ]\n",
      " [0.397399   0.48004663]\n",
      " [0.4442625  0.49906778]\n",
      " [0.4949509  0.5144414 ]\n",
      " [0.54558265 0.49682876]\n",
      " [0.59175086 0.47722608]\n",
      " [0.194157   0.16926692]\n",
      " [0.24600308 0.13693026]\n",
      " [0.31000495 0.13735634]\n",
      " [0.36378494 0.17794687]\n",
      " [0.3063696  0.19082251]\n",
      " [0.24390514 0.19138186]\n",
      " [0.6189632  0.17277813]\n",
      " [0.67249435 0.12988105]\n",
      " [0.7362857  0.1279085 ]\n",
      " [0.7888591  0.15817115]\n",
      " [0.74115133 0.18155812]\n",
      " [0.6791372  0.18370388]\n",
      " [0.30711025 0.6418497 ]\n",
      " [0.3759703  0.6109595 ]\n",
      " [0.44670257 0.5970508 ]\n",
      " [0.49721557 0.60872644]\n",
      " [0.5500201  0.5954327 ]\n",
      " [0.6233016  0.6070911 ]\n",
      " [0.69541407 0.6341429 ]\n",
      " [0.628068   0.70906836]\n",
      " [0.5573954  0.7434471 ]\n",
      " [0.50020397 0.7505844 ]\n",
      " [0.44528747 0.74580276]\n",
      " [0.37508208 0.7145425 ]\n",
      " [0.3372878  0.64616466]\n",
      " [0.44701463 0.64064664]\n",
      " [0.49795204 0.6449633 ]\n",
      " [0.5513943  0.6385937 ]\n",
      " [0.6650228  0.63955915]\n",
      " [0.5530556  0.67647934]\n",
      " [0.4986481  0.68417645]\n",
      " [0.44657204 0.6786047 ]]\n",
      "[0.         0.17856914]\n",
      "[0.00412831 0.31259227]\n",
      "[0.0196793  0.44770938]\n",
      "[0.04809872 0.5800727 ]\n",
      "[0.10028344 0.70349526]\n",
      "[0.17999782 0.81208664]\n",
      "[0.27627307 0.90467805]\n",
      "[0.38463727 0.98006284]\n",
      "[0.5073561 1.       ]\n",
      "[0.63014114 0.9761118 ]\n",
      "[0.7386777  0.89921385]\n",
      "[0.8354747  0.80513287]\n",
      "[0.91434467 0.6945623 ]\n",
      "[0.9643504  0.56826204]\n",
      "[0.9887058 0.432444 ]\n",
      "[0.9993123  0.29529294]\n",
      "[1.         0.15909716]\n",
      "[0.09485531 0.07603313]\n",
      "[0.15534875 0.02492465]\n",
      "[0.2377474  0.01139098]\n",
      "[0.32313403 0.02415778]\n",
      "[0.4036699  0.05780071]\n",
      "[0.56864655 0.0521157 ]\n",
      "[0.65128165 0.01543965]\n",
      "[0.7379608 0.       ]\n",
      "[0.82290924 0.01191543]\n",
      "[0.88739765 0.06025707]\n",
      "[0.48893312 0.15513189]\n",
      "[0.48991537 0.24343018]\n",
      "[0.49092147 0.33176517]\n",
      "[0.49209353 0.422107  ]\n",
      "[0.397399   0.48004663]\n",
      "[0.4442625  0.49906778]\n",
      "[0.4949509 0.5144414]\n",
      "[0.54558265 0.49682876]\n",
      "[0.59175086 0.47722608]\n",
      "[0.194157   0.16926692]\n",
      "[0.24600308 0.13693026]\n",
      "[0.31000495 0.13735634]\n",
      "[0.36378494 0.17794687]\n",
      "[0.3063696  0.19082251]\n",
      "[0.24390514 0.19138186]\n",
      "[0.6189632  0.17277813]\n",
      "[0.67249435 0.12988105]\n",
      "[0.7362857 0.1279085]\n",
      "[0.7888591  0.15817115]\n",
      "[0.74115133 0.18155812]\n",
      "[0.6791372  0.18370388]\n",
      "[0.30711025 0.6418497 ]\n",
      "[0.3759703 0.6109595]\n",
      "[0.44670257 0.5970508 ]\n",
      "[0.49721557 0.60872644]\n",
      "[0.5500201 0.5954327]\n",
      "[0.6233016 0.6070911]\n",
      "[0.69541407 0.6341429 ]\n",
      "[0.628068   0.70906836]\n",
      "[0.5573954 0.7434471]\n",
      "[0.50020397 0.7505844 ]\n",
      "[0.44528747 0.74580276]\n",
      "[0.37508208 0.7145425 ]\n",
      "[0.3372878  0.64616466]\n",
      "[0.44701463 0.64064664]\n",
      "[0.49795204 0.6449633 ]\n",
      "[0.5513943 0.6385937]\n",
      "[0.6650228  0.63955915]\n",
      "[0.5530556  0.67647934]\n",
      "[0.4986481  0.68417645]\n",
      "[0.44657204 0.6786047 ]\n"
     ]
    }
   ],
   "source": [
    "tmp = openface.align_dlib.MINMAX_TEMPLATE"
   ]
  },
  {
   "cell_type": "code",
   "execution_count": 47,
   "metadata": {},
   "outputs": [
    {
     "data": {
      "image/png": "[encoded data removed]",
      "text/plain": [
       "<IPython.core.display.Image object>"
      ]
     },
     "metadata": {},
     "output_type": "display_data"
    }
   ],
   "source": [
    "test_img = np.zeros((255,255,3), dtype=np.int8)\n",
    "test_img.fill(255)\n",
    "for y,x in tmp:\n",
    "    y = int(255 * y)\n",
    "    x = int(255 * x)\n",
    "    cv2.circle(test_img, (y,x), 5, (255, 255, 255), 1)\n",
    "    \n",
    "dataset_utils.imshow(test_img)\n"
   ]
  },
  {
   "cell_type": "code",
   "execution_count": 82,
   "metadata": {},
   "outputs": [
    {
     "data": {
      "image/png": "[encoded data removed]",
      "text/plain": [
       "<IPython.core.display.Image object>"
      ]
     },
     "metadata": {},
     "output_type": "display_data"
    },
    {
     "name": "stdout",
     "output_type": "stream",
     "text": [
      "[[ 0.          1.25       12.5       ]\n",
      " [ 1.66666667  0.          8.33333333]]\n"
     ]
    },
    {
     "data": {
      "image/png": "[encoded data removed]",
      "text/plain": [
       "<IPython.core.display.Image object>"
      ]
     },
     "metadata": {},
     "output_type": "display_data"
    },
    {
     "data": {
      "text/plain": [
       "array([75., 25.])"
      ]
     },
     "execution_count": 82,
     "metadata": {},
     "output_type": "execute_result"
    }
   ],
   "source": [
    "height = width = 255\n",
    "size = (height, width, 3)\n",
    "img = np.zeros(size, dtype=np.uint8)\n",
    "img.fill(255)\n",
    "cv2.circle(img, (10, 10), 5, (255, 0, 0), 2)\n",
    "cv2.circle(img, (10, 50), 5, (0, 255, 0), 2)\n",
    "cv2.circle(img, (40, 30), 5, (0, 0, 255), 2)\n",
    "dataset_utils.imshow(img)\n",
    "\n",
    "landmarks = [[10,10], [10, 50], [40, 30]]\n",
    "landmarks = np.float32(landmarks)\n",
    "\n",
    "targets = [[25, 25], [75, 25], [50, 75]]\n",
    "targets = np.float32(targets)\n",
    "H = cv2.getAffineTransform(landmarks, targets)\n",
    "print(H)\n",
    "thumbnail = cv2.warpAffine(img, H, (100, 100))\n",
    "dataset_utils.imshow(thumbnail)\n",
    "np.dot(H, np.array([10,50,1]))"
   ]
  },
  {
   "cell_type": "code",
   "execution_count": null,
   "metadata": {},
   "outputs": [],
   "source": []
  }
 ],
 "metadata": {
  "kernelspec": {
   "display_name": "Python 2",
   "language": "python",
   "name": "python2"
  },
  "language_info": {
   "codemirror_mode": {
    "name": "ipython",
    "version": 2
   },
   "file_extension": ".py",
   "mimetype": "text/x-python",
   "name": "python",
   "nbconvert_exporter": "python",
   "pygments_lexer": "ipython2",
   "version": "2.7.6"
  }
 },
 "nbformat": 4,
 "nbformat_minor": 2
}
