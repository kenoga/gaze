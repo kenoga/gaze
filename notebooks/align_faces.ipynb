{
 "cells": [
  {
   "cell_type": "code",
   "execution_count": 10,
   "metadata": {},
   "outputs": [],
   "source": [
    "import os\n",
    "import sys\n",
    "import cv2\n",
    "module_path = os.path.abspath(os.path.join('..'))\n",
    "if module_path not in sys.path:\n",
    "    sys.path.append(module_path)\n",
    "from utils import dataset_utils"
   ]
  },
  {
   "cell_type": "markdown",
   "metadata": {},
   "source": [
    "### 顔正規化用オブジェクトの作成"
   ]
  },
  {
   "cell_type": "code",
   "execution_count": 5,
   "metadata": {},
   "outputs": [],
   "source": [
    "aligner = dataset_utils.FaceAligner()"
   ]
  },
  {
   "cell_type": "markdown",
   "metadata": {},
   "source": [
    "### bounding boxの位置と顔基準点の位置の情報と，画像のパスの情報を読み込む\n",
    "- pid2bblms: dict(pid -> dict(img_name -> bb_and_landmarks))\n",
    "- pid2imgpaths: dict(pid -> img_path)"
   ]
  },
  {
   "cell_type": "code",
   "execution_count": null,
   "metadata": {},
   "outputs": [],
   "source": [
    "pid2bblms = dataset_utils.get_bb_and_landmarks_dict()\n",
    "\n",
    "pid2imgpaths = dataset_utils.get_image_paths('transformed_image')"
   ]
  },
  {
   "cell_type": "markdown",
   "metadata": {},
   "source": [
    "### 出力先ファイルを指定"
   ]
  },
  {
   "cell_type": "code",
   "execution_count": null,
   "metadata": {},
   "outputs": [],
   "source": [
    "dst_dir = os.path.join(dataset_utils.DS_ROOT_DIR, 'aligned_face')\n",
    "if not os.path.exists(dst_dir):\n",
    "    os.mkdir(dst_dir)"
   ]
  },
  {
   "cell_type": "code",
   "execution_count": 13,
   "metadata": {},
   "outputs": [
    {
     "name": "stdout",
     "output_type": "stream",
     "text": [
      "92413 / 92413"
     ]
    }
   ],
   "source": [
    "data_size = sum([len(img_paths) for pid, img_paths in pid2imgpaths.items()])\n",
    "count = 1\n",
    "for pid in items(pid2imgpaths.keys()):\n",
    "    img_paths = pid2imgpaths[pid]\n",
    "    if not os.path.exists(os.path.join(dst_dir, pid)):\n",
    "        os.mkdir(os.path.join(dst_dir, pid))\n",
    "\n",
    "    if pid not in pid2bblms:\n",
    "        continue\n",
    "        \n",
    "    for img_path in sorted(img_paths):\n",
    "        sys.stdout.write('\\r'+\"%d / %d\" % (count, data_size))\n",
    "        count += 1\n",
    "        img_name = os.path.basename(img_path)\n",
    "        if img_name in pid2bblms[pid] and pid2bblms[pid][img_name]['detected']:\n",
    "            bb = pid2bblms[pid][img_name]['bb']\n",
    "            bb_rec = dlib.rectangle(bb[0], bb[1], bb[2], bb[3])\n",
    "            lms = pid2bblms[pid][img_name]['landmarks']\n",
    "            img = aligner.align(img_path=img_path, bb=bb_rec, landmarks=lms)\n",
    "            cv2.imwrite(os.path.join(dst_dir, pid, img_name), img)"
   ]
  },
  {
   "cell_type": "code",
   "execution_count": null,
   "metadata": {},
   "outputs": [],
   "source": []
  }
 ],
 "metadata": {
  "kernelspec": {
   "display_name": "Python 2",
   "language": "python",
   "name": "python2"
  },
  "language_info": {
   "codemirror_mode": {
    "name": "ipython",
    "version": 2
   },
   "file_extension": ".py",
   "mimetype": "text/x-python",
   "name": "python",
   "nbconvert_exporter": "python",
   "pygments_lexer": "ipython2",
   "version": "2.7.6"
  }
 },
 "nbformat": 4,
 "nbformat_minor": 2
}
