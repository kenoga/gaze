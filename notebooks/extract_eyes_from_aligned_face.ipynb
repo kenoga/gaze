{
 "cells": [
  {
   "cell_type": "code",
   "execution_count": 1,
   "metadata": {},
   "outputs": [],
   "source": [
    "import os\n",
    "import sys\n",
    "import cv2\n",
    "module_path = os.path.abspath(os.path.join('..'))\n",
    "if module_path not in sys.path:\n",
    "    sys.path.append(module_path)\n",
    "from utils import dataset_utils"
   ]
  },
  {
   "cell_type": "code",
   "execution_count": 2,
   "metadata": {},
   "outputs": [],
   "source": [
    "def extract_both_eyes_from_aligned_face_img(img):\n",
    "    height = img.shape[0]\n",
    "    return img[int(height * 0.075):int(height * 0.25)]    "
   ]
  },
  {
   "cell_type": "code",
   "execution_count": 3,
   "metadata": {},
   "outputs": [],
   "source": [
    "def test_extract_both_eyes_from_aligned_face_img():\n",
    "    pid2paths = dataset_utils.get_image_paths(\"aligned_face\")\n",
    "    for path in pid2paths[\"0002\"][:50]:\n",
    "        img = cv2.imread(path)\n",
    "        dataset_utils.imshow(extract_both_eyes_from_aligned_face_img(img))"
   ]
  },
  {
   "cell_type": "code",
   "execution_count": 4,
   "metadata": {},
   "outputs": [
    {
     "name": "stdout",
     "output_type": "stream",
     "text": [
      "71962\n",
      "71962 / 71962"
     ]
    }
   ],
   "source": [
    "src_dir = os.path.join(dataset_utils.DS_ROOT_DIR, \"aligned_face\")\n",
    "dst_dir = os.path.join(dataset_utils.DS_ROOT_DIR, \"both_eyes_from_aligne_face\")\n",
    "\n",
    "dataset_utils.apply_func_against_srcdir_and_save_to_dstdir(src_dir, dst_dir, extract_both_eyes_from_aligned_face_img)"
   ]
  },
  {
   "cell_type": "code",
   "execution_count": null,
   "metadata": {},
   "outputs": [],
   "source": [
    "\n"
   ]
  }
 ],
 "metadata": {
  "kernelspec": {
   "display_name": "Python 2",
   "language": "python",
   "name": "python2"
  },
  "language_info": {
   "codemirror_mode": {
    "name": "ipython",
    "version": 2
   },
   "file_extension": ".py",
   "mimetype": "text/x-python",
   "name": "python",
   "nbconvert_exporter": "python",
   "pygments_lexer": "ipython2",
   "version": "2.7.6"
  }
 },
 "nbformat": 4,
 "nbformat_minor": 2
}
