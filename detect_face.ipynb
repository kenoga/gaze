{
 "cells": [
  {
   "cell_type": "code",
   "execution_count": 24,
   "metadata": {},
   "outputs": [],
   "source": [
    "import os\n",
    "import json\n",
    "import cv2\n",
    "import dlib\n",
    "import openface\n",
    "from openface import AlignDlib"
   ]
  },
  {
   "cell_type": "code",
   "execution_count": 25,
   "metadata": {},
   "outputs": [],
   "source": [
    "from IPython.display import display, Image\n",
    "import cv2\n",
    "\n",
    "def imshow(image, format='.png'):\n",
    "    decoded_bytes = cv2.imencode(format, image)[1].tobytes()\n",
    "    display(Image(data=decoded_bytes))"
   ]
  },
  {
   "cell_type": "code",
   "execution_count": 26,
   "metadata": {},
   "outputs": [],
   "source": [
    "dlib_model_path = '/root/openface/models/dlib/shape_predictor_68_face_landmarks.dat'\n",
    "align = AlignDlib(dlib_model_path)"
   ]
  },
  {
   "cell_type": "code",
   "execution_count": 33,
   "metadata": {},
   "outputs": [
    {
     "data": {
      "text/plain": [
       "['0013', '0014', '0015', '0016']"
      ]
     },
     "execution_count": 33,
     "metadata": {},
     "output_type": "execute_result"
    }
   ],
   "source": [
    "# subdirごとに結果のjsonファイルを保存する\n",
    "\n",
    "json_fname = \"face_position_and_landmarks.json\"\n",
    "src_root_dir = \"./data/kobas-omni-eyecontact/transformed_image/\"\n",
    "sub_dirs = [sub_dir for sub_dir in sorted(os.listdir(src_root_dir)) if sub_dir[0] != '.']\n",
    "dst_root_dir = \"./data/kobas-omni-eyecontact/face_image\"\n",
    "sub_dirs[12:]"
   ]
  },
  {
   "cell_type": "code",
   "execution_count": null,
   "metadata": {},
   "outputs": [
    {
     "name": "stdout",
     "output_type": "stream",
     "text": [
      "('./data/kobas-omni-eyecontact/transformed_image/0013/0013_0_C_00_00000001.jpg', True)\n",
      "('./data/kobas-omni-eyecontact/transformed_image/0013/0013_0_C_00_00000002.jpg', False)\n",
      "('./data/kobas-omni-eyecontact/transformed_image/0013/0013_0_C_00_00000003.jpg', True)\n",
      "('./data/kobas-omni-eyecontact/transformed_image/0013/0013_0_C_00_00000004.jpg', True)\n",
      "('./data/kobas-omni-eyecontact/transformed_image/0013/0013_0_C_00_00000005.jpg', True)\n",
      "('./data/kobas-omni-eyecontact/transformed_image/0013/0013_0_C_00_00000006.jpg', True)\n",
      "('./data/kobas-omni-eyecontact/transformed_image/0013/0013_0_C_00_00000007.jpg', True)\n",
      "('./data/kobas-omni-eyecontact/transformed_image/0013/0013_0_C_00_00000008.jpg', True)\n",
      "('./data/kobas-omni-eyecontact/transformed_image/0013/0013_0_C_00_00000009.jpg', True)\n",
      "('./data/kobas-omni-eyecontact/transformed_image/0013/0013_0_C_00_00000010.jpg', True)\n",
      "('./data/kobas-omni-eyecontact/transformed_image/0013/0013_0_C_00_00000011.jpg', True)\n",
      "('./data/kobas-omni-eyecontact/transformed_image/0013/0013_0_C_00_00000012.jpg', True)\n",
      "('./data/kobas-omni-eyecontact/transformed_image/0013/0013_0_C_00_00000013.jpg', True)\n",
      "('./data/kobas-omni-eyecontact/transformed_image/0013/0013_0_C_00_00000014.jpg', True)\n",
      "('./data/kobas-omni-eyecontact/transformed_image/0013/0013_0_C_00_00000015.jpg', True)\n",
      "('./data/kobas-omni-eyecontact/transformed_image/0013/0013_0_C_00_00000016.jpg', True)\n",
      "('./data/kobas-omni-eyecontact/transformed_image/0013/0013_0_C_00_00000017.jpg', True)\n",
      "('./data/kobas-omni-eyecontact/transformed_image/0013/0013_0_C_00_00000018.jpg', True)\n",
      "('./data/kobas-omni-eyecontact/transformed_image/0013/0013_0_C_00_00000019.jpg', True)\n",
      "('./data/kobas-omni-eyecontact/transformed_image/0013/0013_0_C_00_00000020.jpg', True)\n",
      "('./data/kobas-omni-eyecontact/transformed_image/0013/0013_0_C_00_00000021.jpg', True)\n",
      "('./data/kobas-omni-eyecontact/transformed_image/0013/0013_0_C_00_00000022.jpg', True)\n",
      "('./data/kobas-omni-eyecontact/transformed_image/0013/0013_0_C_00_00000023.jpg', True)\n",
      "('./data/kobas-omni-eyecontact/transformed_image/0013/0013_0_C_00_00000024.jpg', True)\n",
      "('./data/kobas-omni-eyecontact/transformed_image/0013/0013_0_C_00_00000025.jpg', True)\n",
      "('./data/kobas-omni-eyecontact/transformed_image/0013/0013_0_C_00_00000026.jpg', True)\n",
      "('./data/kobas-omni-eyecontact/transformed_image/0013/0013_0_C_00_00000027.jpg', True)\n",
      "('./data/kobas-omni-eyecontact/transformed_image/0013/0013_0_C_00_00000028.jpg', True)\n",
      "('./data/kobas-omni-eyecontact/transformed_image/0013/0013_0_C_00_00000029.jpg', True)\n",
      "('./data/kobas-omni-eyecontact/transformed_image/0013/0013_0_C_00_00000030.jpg', True)\n",
      "('./data/kobas-omni-eyecontact/transformed_image/0013/0013_0_C_00_00000031.jpg', True)\n",
      "('./data/kobas-omni-eyecontact/transformed_image/0013/0013_0_C_00_00000032.jpg', True)\n",
      "('./data/kobas-omni-eyecontact/transformed_image/0013/0013_0_C_00_00000033.jpg', True)\n"
     ]
    }
   ],
   "source": [
    "\n",
    "if not os.path.exists(dst_root_dir):\n",
    "    os.mkdir(dst_root_dir)\n",
    "\n",
    "for sub_dir in sub_dirs[12:]:\n",
    "    results = {}\n",
    "    src_dir = os.path.join(src_root_dir, sub_dir)\n",
    "    dst_dir = os.path.join(dst_root_dir, sub_dir)\n",
    "    \n",
    "    if not os.path.exists(dst_dir):\n",
    "        os.mkdir(dst_dir)\n",
    "    \n",
    "    fnames = [fname for fname in sorted(os.listdir(src_dir)) if fname[0] != '.']\n",
    "    \n",
    "    for fname in fnames:\n",
    "        results[fname] = {}\n",
    "        detected = False\n",
    "        fpath = os.path.join(src_dir, fname)\n",
    "        img = cv2.imread(fpath)\n",
    "        bb = align.getLargestFaceBoundingBox(img)\n",
    "        landmarks = None\n",
    "        if bb is not None:\n",
    "            landmarks = align.findLandmarks(img, bb)\n",
    "            face_img = img[bb.top():bb.bottom(), bb.left():bb.right()]\n",
    "            \n",
    "            #  save face img\n",
    "            cv2.imwrite(os.path.join(dst_dir, fname), face_img)\n",
    "            \n",
    "            detected = True\n",
    "            results[fname][\"lanmarks\"] = landmarks\n",
    "        else:\n",
    "            detected = False\n",
    "        results[fname][\"detected\"] = detected\n",
    "        \n",
    "        # log\n",
    "        print(fpath, detected)\n",
    "    with open(os.path.join(dst_dir, json_fname), \"w\") as fr:\n",
    "        json.dump(results, fr, indent=2, sort_keys=True)\n",
    "    "
   ]
  },
  {
   "cell_type": "code",
   "execution_count": null,
   "metadata": {},
   "outputs": [],
   "source": []
  }
 ],
 "metadata": {
  "kernelspec": {
   "display_name": "Python 2",
   "language": "python",
   "name": "python2"
  },
  "language_info": {
   "codemirror_mode": {
    "name": "ipython",
    "version": 2
   },
   "file_extension": ".py",
   "mimetype": "text/x-python",
   "name": "python",
   "nbconvert_exporter": "python",
   "pygments_lexer": "ipython2",
   "version": "2.7.6"
  }
 },
 "nbformat": 4,
 "nbformat_minor": 2
}
