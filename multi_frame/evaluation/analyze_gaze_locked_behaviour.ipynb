{
 "cells": [
  {
   "cell_type": "code",
   "execution_count": 38,
   "metadata": {},
   "outputs": [
    {
     "ename": "ImportError",
     "evalue": "No module named skimage",
     "output_type": "error",
     "traceback": [
      "\u001b[0;31m---------------------------------------------------------------------------\u001b[0m",
      "\u001b[0;31mImportError\u001b[0m                               Traceback (most recent call last)",
      "\u001b[0;32m<ipython-input-38-188f24581cfd>\u001b[0m in \u001b[0;36m<module>\u001b[0;34m()\u001b[0m\n\u001b[1;32m     14\u001b[0m \u001b[0;32mimport\u001b[0m \u001b[0mutils\u001b[0m\u001b[0;34m\u001b[0m\u001b[0m\n\u001b[1;32m     15\u001b[0m \u001b[0;32mimport\u001b[0m \u001b[0mcv2\u001b[0m\u001b[0;34m\u001b[0m\u001b[0m\n\u001b[0;32m---> 16\u001b[0;31m \u001b[0;32mimport\u001b[0m \u001b[0mskimage\u001b[0m\u001b[0;34m\u001b[0m\u001b[0m\n\u001b[0m",
      "\u001b[0;31mImportError\u001b[0m: No module named skimage"
     ]
    }
   ],
   "source": [
    "# -*- coding: utf-8 -*-\n",
    "import os, sys\n",
    "import glob\n",
    "import json\n",
    "sys.path.append(\"..\")\n",
    "sys.path.append(\"../..\")\n",
    "import dataset_utils.utils\n",
    "import dataset_utils.config as config\n",
    "import pympi\n",
    "import sklearn.metrics as metrics\n",
    "from collections import defaultdict\n",
    "import copy\n",
    "import pickle\n",
    "import utils\n",
    "import cv2\n"
   ]
  },
  {
   "cell_type": "code",
   "execution_count": 48,
   "metadata": {},
   "outputs": [],
   "source": [
    "prediction_dir = os.path.join(config.DS_DIALOG, \"detection_result\")\n",
    "ant_dir = os.path.join(config.DS_DIALOG, \"ant\")\n",
    "img_dir = os.path.join(config.DS_DIALOG, \"image\")\n",
    "face_dir = os.path.join(config.DS_DIALOG, \"transformed_split\")\n",
    "face_dir = os.path.join(config.DS_DIALOG, \"both_eyes_from_aligned_face\")\n",
    "meta_dir = os.path.join(config.DS_DIALOG, \"meta_info\")\n",
    "movie_files = [\"01_01.MP4\", \"01_02.MP4\", \"02_01.MP4\", \"02_02.MP4\", \"03_01.MP4\", \"03_02.MP4\", \"04_01.MP4\", \"04_02.MP4\", \"05_01.MP4\", \"05_02.MP4\"]\n",
    "fig_dir = os.path.join(config.DS_DIALOG, \"figure\")\n",
    "if not os.path.exists(fig_dir):\n",
    "    os.mkdir(fig_dir)"
   ]
  },
  {
   "cell_type": "code",
   "execution_count": 14,
   "metadata": {},
   "outputs": [],
   "source": [
    "def up_points(labels):\n",
    "    points = []\n",
    "    for i in range(len(labels[:-1])):\n",
    "        if (labels[i], labels[i+1]) == (0,1):\n",
    "            points.append(i)\n",
    "    return points"
   ]
  },
  {
   "cell_type": "code",
   "execution_count": 6,
   "metadata": {
    "scrolled": true
   },
   "outputs": [
    {
     "name": "stdout",
     "output_type": "stream",
     "text": [
      "Parsing unknown version of ELAN spec... This could result in errors...\n"
     ]
    },
    {
     "ename": "NameError",
     "evalue": "name 'lables' is not defined",
     "output_type": "error",
     "traceback": [
      "\u001b[0;31m---------------------------------------------------------------------------\u001b[0m",
      "\u001b[0;31mNameError\u001b[0m                                 Traceback (most recent call last)",
      "\u001b[0;32m<ipython-input-6-118a289eaacc>\u001b[0m in \u001b[0;36m<module>\u001b[0;34m()\u001b[0m\n\u001b[1;32m      3\u001b[0m \u001b[0mframe_num\u001b[0m \u001b[0;34m=\u001b[0m \u001b[0mutils\u001b[0m\u001b[0;34m.\u001b[0m\u001b[0mframe_num\u001b[0m\u001b[0;34m(\u001b[0m\u001b[0mimg_dir\u001b[0m\u001b[0;34m,\u001b[0m \u001b[0mmovie_id\u001b[0m\u001b[0;34m)\u001b[0m\u001b[0;34m\u001b[0m\u001b[0m\n\u001b[1;32m      4\u001b[0m \u001b[0mlabels\u001b[0m \u001b[0;34m=\u001b[0m \u001b[0mutils\u001b[0m\u001b[0;34m.\u001b[0m\u001b[0mload_ts\u001b[0m\u001b[0;34m(\u001b[0m\u001b[0mmovie_id\u001b[0m\u001b[0;34m,\u001b[0m \u001b[0mseat_id\u001b[0m\u001b[0;34m,\u001b[0m \u001b[0mant_dir\u001b[0m\u001b[0;34m,\u001b[0m \u001b[0mframe_num\u001b[0m\u001b[0;34m)\u001b[0m\u001b[0;34m\u001b[0m\u001b[0m\n\u001b[0;32m----> 5\u001b[0;31m \u001b[0;32mprint\u001b[0m\u001b[0;34m(\u001b[0m\u001b[0mlables\u001b[0m\u001b[0;34m[\u001b[0m\u001b[0;34m:\u001b[0m\u001b[0;36m100\u001b[0m\u001b[0;34m]\u001b[0m\u001b[0;34m)\u001b[0m\u001b[0;34m\u001b[0m\u001b[0m\n\u001b[0m",
      "\u001b[0;31mNameError\u001b[0m: name 'lables' is not defined"
     ]
    }
   ],
   "source": [
    "movie_id = \"05_01\"\n",
    "seat_id = \"A\"\n",
    "frame_num = utils.frame_num(img_dir, movie_id)\n",
    "labels = utils.load_ts(movie_id, seat_id, ant_dir, frame_num)"
   ]
  },
  {
   "cell_type": "code",
   "execution_count": 15,
   "metadata": {},
   "outputs": [],
   "source": [
    "ups = up_points(labels)"
   ]
  },
  {
   "cell_type": "code",
   "execution_count": 55,
   "metadata": {},
   "outputs": [
    {
     "name": "stdout",
     "output_type": "stream",
     "text": [
      "/root/gaze/data/omni_dialog/real/both_eyes_from_aligned_face/05_01/00000592_A.png\n"
     ]
    },
    {
     "data": {
      "image/png": "[encoded data removed]",
      "text/plain": [
       "<IPython.core.display.Image object>"
      ]
     },
     "metadata": {},
     "output_type": "display_data"
    }
   ],
   "source": [
    "up = ups[0]\n",
    "path_pre = os.path.join(face_dir, movie_id, \"%08d_%s.png\" % (up+2, seat_id))\n",
    "path_post = os.path.join(face_dir, movie_id, \"%08d_%s.png\" % (up+3, seat_id))\n",
    "print(path_pre)\n",
    "pre = dataset_utils.utils.imread(path_pre)\n",
    "post = dataset_utils.utils.imread(path_post)\n",
    "pre_gray = cv2.cvtColor(pre, cv2.COLOR_BGR2GRAY)\n",
    "post_gray = cv2.cvtColor(post, cv2.COLOR_BGR2GRAY)\n",
    "diff = cv2.subtract(post_gray, pre_gray)\n",
    "dataset_utils.utils.imshow(diff)"
   ]
  },
  {
   "cell_type": "code",
   "execution_count": null,
   "metadata": {},
   "outputs": [],
   "source": []
  }
 ],
 "metadata": {
  "kernelspec": {
   "display_name": "Python 2",
   "language": "python",
   "name": "python2"
  },
  "language_info": {
   "codemirror_mode": {
    "name": "ipython",
    "version": 2
   },
   "file_extension": ".py",
   "mimetype": "text/x-python",
   "name": "python",
   "nbconvert_exporter": "python",
   "pygments_lexer": "ipython2",
   "version": "2.7.6"
  }
 },
 "nbformat": 4,
 "nbformat_minor": 2
}
