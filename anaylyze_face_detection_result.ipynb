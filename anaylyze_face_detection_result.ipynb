{
 "cells": [
  {
   "cell_type": "code",
   "execution_count": 10,
   "metadata": {},
   "outputs": [
    {
     "name": "stdout",
     "output_type": "stream",
     "text": [
      "('0001', 0.7787709497206704, 895)\n",
      "('0002', 0.7425424506654429, 8716)\n",
      "('0003', 0.6512333198544278, 4946)\n",
      "('0004', 0.8187618789030682, 7366)\n",
      "('0005', 0.8529878371232152, 5673)\n",
      "('0006', 0.8025613660618997, 4685)\n",
      "('0007', 0.8628711355984083, 6534)\n",
      "('0008', 0.8566224303929222, 3843)\n",
      "('0009', 0.8076720966894377, 5709)\n",
      "('0010', 0.519584505518286, 4621)\n",
      "('0011', 0.8298415942769545, 5871)\n",
      "('0012', 0.8027504105090312, 9744)\n",
      "detection recall\n",
      "0.782123230763\n",
      "locked vs non-locked\n",
      "(11101, 57502)\n"
     ]
    }
   ],
   "source": [
    "import json\n",
    "import os\n",
    "from collections import Counter\n",
    "target = \"./data/kobas-omni-eyecontact/face_image/\"\n",
    "sds = sorted([sd for sd in os.listdir(target) if sd[0] != '.'])\n",
    "json_fname = \"face_position_and_landmarks.json\"\n",
    "\n",
    "\n",
    "all_pos = 0\n",
    "all_neg = 0\n",
    "\n",
    "locked = 0\n",
    "nonlocked = 0\n",
    "for sd in sds:\n",
    "    pos_n = 0\n",
    "    neg_n = 0\n",
    "    path = os.path.join(target, sd, json_fname)\n",
    "    with open(path, 'r') as fr:\n",
    "        res = json.load(fr)\n",
    "    for fname in sorted(res.keys()):\n",
    "        gaze_target = fname.split(\"_\")[3]\n",
    "        if int(gaze_target) in {0, 1, 2, 31, 32}:\n",
    "            locked += 1\n",
    "        else:\n",
    "            nonlocked +=1\n",
    "        \n",
    "        if res[fname]['detected']:\n",
    "            pos_n += 1\n",
    "        else:\n",
    "            neg_n += 1\n",
    "    print(sd, pos_n / float(pos_n + neg_n), pos_n + neg_n)\n",
    "    all_pos += pos_n\n",
    "    all_neg += neg_n\n",
    "print(\"detection recall\")\n",
    "print(all_pos / float(all_pos + all_neg))\n",
    "\n",
    "print(\"locked vs non-locked\")\n",
    "print(locked, nonlocked)\n",
    "            \n",
    "            \n",
    "    "
   ]
  },
  {
   "cell_type": "code",
   "execution_count": null,
   "metadata": {},
   "outputs": [],
   "source": [
    "## locked vs non-locked\n"
   ]
  }
 ],
 "metadata": {
  "kernelspec": {
   "display_name": "Python 2",
   "language": "python",
   "name": "python2"
  },
  "language_info": {
   "codemirror_mode": {
    "name": "ipython",
    "version": 2
   },
   "file_extension": ".py",
   "mimetype": "text/x-python",
   "name": "python",
   "nbconvert_exporter": "python",
   "pygments_lexer": "ipython2",
   "version": "2.7.6"
  }
 },
 "nbformat": 4,
 "nbformat_minor": 2
}
