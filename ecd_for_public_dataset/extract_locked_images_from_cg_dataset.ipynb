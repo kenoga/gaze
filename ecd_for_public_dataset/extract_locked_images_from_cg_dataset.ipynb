{
 "cells": [
  {
   "cell_type": "markdown",
   "metadata": {},
   "source": [
    "# CGデータセットを目があっているもの，そうでないものに分ける"
   ]
  },
  {
   "cell_type": "code",
   "execution_count": 27,
   "metadata": {},
   "outputs": [],
   "source": [
    "import os\n",
    "import shutil"
   ]
  },
  {
   "cell_type": "code",
   "execution_count": 28,
   "metadata": {},
   "outputs": [],
   "source": [
    "cg_dir = '../data/gaze_dataset/Columbia_Gaze_Data_Set/'\n",
    "dest_dir = '../data/eyecontact_dataset/cg_eyecontact/'\n",
    "\n",
    "sub_dir_names = sorted([name for name in os.listdir(cg_dir) if name[0] != '.'])\n",
    "\n",
    "locked_image_paths = []\n",
    "unlocked_image_paths = []\n",
    "\n",
    "for sub_dir_name in sub_dir_names:\n",
    "    sub_dir_path  = os.path.join(cg_dir, sub_dir_name)\n",
    "    img_names = sorted([name for name in os.listdir(sub_dir_path) if name[-4:] == '.jpg'])\n",
    "    for img_name in img_names:\n",
    "        path = os.path.join(sub_dir_path, img_name)\n",
    "        if '_0V_0H' in img_name:\n",
    "            locked_image_paths.append(path)\n",
    "        else:\n",
    "            unlocked_image_paths.append(path)"
   ]
  },
  {
   "cell_type": "code",
   "execution_count": 29,
   "metadata": {},
   "outputs": [
    {
     "name": "stdout",
     "output_type": "stream",
     "text": [
      "280\n",
      "5600\n"
     ]
    }
   ],
   "source": [
    "print(len(locked_image_paths))\n",
    "print(len(unlocked_image_paths))"
   ]
  },
  {
   "cell_type": "code",
   "execution_count": 30,
   "metadata": {},
   "outputs": [],
   "source": [
    " for path in locked_image_paths:\n",
    "        shutil.copy2(path, os.path.join(dest_dir, 'locked', os.path.basename(path)))\n",
    "for path in unlocked_image_paths:\n",
    "        shutil.copy2(path, os.path.join(dest_dir, 'unlocked', os.path.basename(path)))"
   ]
  },
  {
   "cell_type": "code",
   "execution_count": null,
   "metadata": {},
   "outputs": [],
   "source": []
  }
 ],
 "metadata": {
  "kernelspec": {
   "display_name": "Python 2",
   "language": "python",
   "name": "python2"
  },
  "language_info": {
   "codemirror_mode": {
    "name": "ipython",
    "version": 2
   },
   "file_extension": ".py",
   "mimetype": "text/x-python",
   "name": "python",
   "nbconvert_exporter": "python",
   "pygments_lexer": "ipython2",
   "version": "2.7.6"
  }
 },
 "nbformat": 4,
 "nbformat_minor": 2
}
