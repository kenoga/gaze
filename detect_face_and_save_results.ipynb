{
 "cells": [
  {
   "cell_type": "code",
   "execution_count": 15,
   "metadata": {},
   "outputs": [],
   "source": [
    "import os\n",
    "import sys\n",
    "import json\n",
    "import cv2\n",
    "import dataset_utils"
   ]
  },
  {
   "cell_type": "code",
   "execution_count": 18,
   "metadata": {},
   "outputs": [],
   "source": [
    "# subdirごとに結果のjsonファイルを保存する\n",
    "\n",
    "json_fname = \"%s.json\"\n",
    "img_path_dict = dataset_utils.get_image_paths('transformed_image')\n",
    "face_root_dir = os.path.join(dataset_utils.DS_ROOT_DIR, \"face_image\")\n",
    "json_dir = os.path.join(dataset_utils.DS_ROOT_DIR, \"face_bb_and_landmarks\")\n",
    "aligner = dataset_utils.FaceAligner()\n"
   ]
  },
  {
   "cell_type": "code",
   "execution_count": null,
   "metadata": {},
   "outputs": [
    {
     "name": "stdout",
     "output_type": "stream",
     "text": [
      "data_size: 91518\n",
      "0002\n",
      "person: 6532 / 8716, all: 6532 / 91518"
     ]
    }
   ],
   "source": [
    "data_size = sum([len(img_path_dict[subdir]) for subdir in img_path_dict.keys()])\n",
    "print(\"data_size: %d\" % data_size)\n",
    "count = 0\n",
    "\n",
    "if not os.path.exists(json_dir):\n",
    "    os.mkdir(json_dir)\n",
    "\n",
    "results = {}    \n",
    "for sub_dir in sorted(img_path_dict.keys()):\n",
    "    print(sub_dir)\n",
    "    img_paths = img_path_dict[sub_dir]\n",
    "    face_dir = os.path.join(face_root_dir, sub_dir)    \n",
    "    \n",
    "    if not os.path.exists(face_dir):\n",
    "        os.mkdir(dst_dir)\n",
    "\n",
    "    for img_path in img_paths:\n",
    "        count += 1\n",
    "        sys.stdout.write('\\r'+\"person: %d / %d, all: %d / %d\" % (count, len(img_paths), count, data_size))\n",
    "        img_name = os.path.basename(img_path)\n",
    "        results[img_name] = {}\n",
    "        img = cv2.imread(img_path)\n",
    "        bb = aligner.bb(img=img)\n",
    "\n",
    "        if bb is not None:\n",
    "            landmarks = aligner.landmarks(img=img, bb=bb)\n",
    "            # save face img\n",
    "#             face_img = img[bb.top():bb.bottom(), bb.left():bb.right()]\n",
    "#             cv2.imwrite(os.path.join(face_dir, fname), face_img)\n",
    "            results[img_name][\"detected\"] = True\n",
    "            results[img_name]['bb'] = [bb.left(), bb.top(), bb.right(), bb.bottom()]\n",
    "            results[img_name][\"landmarks\"] = landmarks\n",
    "        else:\n",
    "            results[img_name][\"detected\"] = False\n",
    "\n",
    "    with open(os.path.join(json_dir, json_fname) % sub_dir, \"w\") as fr:\n",
    "        json.dump(results, fr, indent=2, sort_keys=True)\n",
    "    "
   ]
  },
  {
   "cell_type": "code",
   "execution_count": null,
   "metadata": {},
   "outputs": [],
   "source": []
  }
 ],
 "metadata": {
  "kernelspec": {
   "display_name": "Python 2",
   "language": "python",
   "name": "python2"
  },
  "language_info": {
   "codemirror_mode": {
    "name": "ipython",
    "version": 2
   },
   "file_extension": ".py",
   "mimetype": "text/x-python",
   "name": "python",
   "nbconvert_exporter": "python",
   "pygments_lexer": "ipython2",
   "version": "2.7.6"
  }
 },
 "nbformat": 4,
 "nbformat_minor": 2
}
